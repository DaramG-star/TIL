{
  "nbformat": 4,
  "nbformat_minor": 0,
  "metadata": {
    "colab": {
      "provenance": [],
      "authorship_tag": "ABX9TyP5INKpY5YYZSFPfn0ft7fp",
      "include_colab_link": true
    },
    "kernelspec": {
      "name": "python3",
      "display_name": "Python 3"
    },
    "language_info": {
      "name": "python"
    }
  },
  "cells": [
    {
      "cell_type": "markdown",
      "metadata": {
        "id": "view-in-github",
        "colab_type": "text"
      },
      "source": [
        "<a href=\"https://colab.research.google.com/github/DaramG-star/TIL/blob/master/QUEUE.ipynb\" target=\"_parent\"><img src=\"https://colab.research.google.com/assets/colab-badge.svg\" alt=\"Open In Colab\"/></a>"
      ]
    },
    {
      "cell_type": "markdown",
      "source": [
        "1) 공백 큐 생성 : createQueue()\n",
        "\n",
        "크기가 N인 배열을 생성\n",
        "\n",
        "front, rear는 -1로 초기화\n",
        "\n",
        "front 마지막으로 꺼내진 위치\n",
        "\n",
        "Q = [0] * 10\n",
        "\n",
        "front = rear = -1\n",
        "\n",
        "\n",
        "2) 원소 A 삽입 : enQueue(A)\n",
        "\n",
        "rear = 마지막 저장 위치\n",
        "\n",
        "rear 는 원래 자리에서 1 더하고 A를 저장함\n",
        "\n",
        "rear += 1\n",
        "\n",
        "Q[rear] = A\n",
        "\n",
        "\n",
        "3) 원소 B 삽입 : enQueue(B):\n",
        "\n",
        "rear 의 원래 자리에서 1 더하고 B를 저장함\n",
        "\n",
        "\n",
        "4) 원소 반환 / 삭제 : deQueue()\n",
        "\n",
        "front 를 하나 증가시켜줌\n",
        "\n",
        "front += 1\n",
        "\n",
        "tmp = Q[front]\n",
        "\n",
        "\n",
        "5) 원소 C 삽입 : enQueue(C)\n",
        "\n",
        "rear 의 원래 자리에서 1 더하고 C를 저장함\n",
        "\n",
        "\n",
        "6) 원소 반환/삭제 : deQueue()\n",
        "\n",
        "\n",
        "7) 원소 반환/삭제 : deQueue()\n",
        "\n",
        "가장 마지막에 들어온 원소가 빠짐\n",
        "\n",
        "front 랑 rear 가 같음\n",
        "\n",
        "if front == rear:\n",
        "\n",
        "\n",
        "선형큐\n",
        "\n",
        "1차원 배열을 이용한 큐\n",
        "\n",
        "큐의 크기 = 배열의 크기\n",
        "\n",
        "front : 마지막으로 삭제된 인덱스\n",
        "\n",
        "rear : 저장된 마지막 원소의 인덱스\n",
        "\n",
        "상태표현\n",
        "\n",
        "\n",
        "초기 상태 : front = rear = -1\n",
        "\n",
        "공백 상태 : front == rear\n",
        "\n",
        "포화 상태 : rear == n - 1 (n : 배열의 크기, n-1 : 배열의 마지막 인덱스)\n",
        "\n",
        "초기 공백 큐 생성\n",
        "\n",
        "크기 n 인 1차원 배열 생성\n",
        "\n",
        "front 와 rear를 -1로 초기화\n",
        "\n",
        "삽입 : enQueue(item)\n",
        "\n",
        "마지막 원소 뒤에 새로운 원소를 삽입하기 위해\n",
        "\n",
        "1) rear 값을 하나 증가시켜 새로운 원소를 삽입할 자리를 마련\n",
        "\n",
        "2) 그 인덱스에 해당하는 배열원소 Q[rear]에 item을 저장\n",
        "\n",
        "\n",
        "\n",
        "삭제 : deQueue()\n",
        "\n",
        "가장 앞에 있는 원소를 삭제하기 위해\n",
        "\n",
        "1) front 값을 하나 증가시켜 큐에 남아있는 첫 번째 원소 이동\n",
        "\n",
        "2) 새로운 첫 번째 원소를 리턴 함으로써 삭제와 동일한 기능 함\n",
        "\n",
        "\n",
        "\n",
        "공백상태 및 포화상태 검사 : isEmpty(), isFull()\n",
        "\n",
        "공백상태 : front == rear\n",
        "\n",
        "포화상태 : rear == n-1 (n : 배열의 크기, n-1 : 배열의 마지막 인덱스)\n",
        "\n",
        "\n",
        "\n",
        "검색 : Qpeek()\n",
        "\n",
        "가장 앞에 있는 원소를 검색하여 반환하는 연산\n",
        "\n",
        "현재 front의 한자리 뒤(front+1)에 있는 원소, 즉 큐의 첫번째에 있는 원소를 반환\n",
        "\n"
      ],
      "metadata": {
        "id": "9zDa6qqFG_v6"
      }
    },
    {
      "cell_type": "code",
      "execution_count": 1,
      "metadata": {
        "colab": {
          "base_uri": "https://localhost:8080/"
        },
        "id": "TIBtlH7yGutx",
        "outputId": "b3921857-104f-48f9-d77f-7842cd3d4d9e"
      },
      "outputs": [
        {
          "output_type": "stream",
          "name": "stdout",
          "text": [
            "1\n",
            "2\n",
            "3\n"
          ]
        }
      ],
      "source": [
        "queue = []\n",
        "\n",
        "queue.append(1)\n",
        "queue.append(2)\n",
        "queue.append(3)\n",
        "\n",
        "# print(queue.pop(0))\n",
        "# print(queue.pop(0))\n",
        "# print(queue.pop(0))\n",
        "\n",
        "while queue:\n",
        "    print(queue.pop(0))"
      ]
    },
    {
      "cell_type": "code",
      "source": [
        "N = 10\n",
        "q = [0] * 10\n",
        "front = rear = -1\n",
        "\n",
        "rear += 1       # enqueue(10)\n",
        "q[rear] = 10\n",
        "\n",
        "rear += 1\n",
        "q[rear] = 20\n",
        "\n",
        "rear += 1\n",
        "q[rear] = 30\n",
        "\n",
        "while front != rear:    # 큐가 비어있지 않으면\n",
        "    front += 1\n",
        "    print(q[front])"
      ],
      "metadata": {
        "colab": {
          "base_uri": "https://localhost:8080/"
        },
        "id": "h6uYwtd1HfK6",
        "outputId": "73cd0cf9-90a5-4a12-8099-14d895f83d2f"
      },
      "execution_count": 2,
      "outputs": [
        {
          "output_type": "stream",
          "name": "stdout",
          "text": [
            "10\n",
            "20\n",
            "30\n"
          ]
        }
      ]
    }
  ]
}