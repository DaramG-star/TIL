{
  "nbformat": 4,
  "nbformat_minor": 0,
  "metadata": {
    "colab": {
      "provenance": [],
      "authorship_tag": "ABX9TyMeES4XTzXIy8nl7+LHVjgM",
      "include_colab_link": true
    },
    "kernelspec": {
      "name": "python3",
      "display_name": "Python 3"
    },
    "language_info": {
      "name": "python"
    }
  },
  "cells": [
    {
      "cell_type": "markdown",
      "metadata": {
        "id": "view-in-github",
        "colab_type": "text"
      },
      "source": [
        "<a href=\"https://colab.research.google.com/github/DaramG-star/TIL/blob/master/%EC%9B%94%EB%A7%90%ED%8F%89%EA%B0%80_%EB%8C%80%EB%B9%84_%EC%BD%94%EB%93%9C%EC%A0%95%EB%A6%AC.ipynb\" target=\"_parent\"><img src=\"https://colab.research.google.com/assets/colab-badge.svg\" alt=\"Open In Colab\"/></a>"
      ]
    },
    {
      "cell_type": "markdown",
      "source": [
        "## 내장함수 구현"
      ],
      "metadata": {
        "id": "1zgqgfDqxOoD"
      }
    },
    {
      "cell_type": "code",
      "source": [
        "arr = [3, 2, 1, 4, 5, 32]\n",
        "data = {'a': 3, 'b': 2, 'c': 1, 'd': 4, 'e': 5}\n",
        "\n",
        "#sum\n",
        "#len\n",
        "#max\n",
        "#min\n",
        "#avg"
      ],
      "metadata": {
        "id": "rUSyM1h04UYQ"
      },
      "execution_count": null,
      "outputs": []
    },
    {
      "cell_type": "markdown",
      "source": [
        "## 정답"
      ],
      "metadata": {
        "id": "4yuE3hd-4dcu"
      }
    },
    {
      "cell_type": "code",
      "execution_count": null,
      "metadata": {
        "colab": {
          "base_uri": "https://localhost:8080/"
        },
        "id": "FgOa4AlixBwG",
        "outputId": "54512c10-cb04-486b-c7e9-e3894e020d60"
      },
      "outputs": [
        {
          "output_type": "stream",
          "name": "stdout",
          "text": [
            "7.83\n",
            "8\n",
            "7\n",
            "3.0\n",
            "6\n",
            "5\n",
            "32\n",
            "5\n",
            "1\n",
            "1\n",
            "47\n",
            "15\n"
          ]
        }
      ],
      "source": [
        "arr = [3, 2, 1, 4, 5, 32]\n",
        "data = {'a': 3, 'b': 2, 'c': 1, 'd': 4, 'e': 5}\n",
        "\n",
        "# sum 구하기\n",
        "def get_sum(arr):\n",
        "    total = 0\n",
        "    for num in arr:\n",
        "        total += num\n",
        "    return total\n",
        "\n",
        "#딕셔너리일때 sum 구하기\n",
        "def get_sum_dict(data):\n",
        "    total = 0\n",
        "    for value in data.values():\n",
        "        total += value\n",
        "    return total\n",
        "\n",
        "# len 구하기\n",
        "def get_len(arr):\n",
        "    total = 0\n",
        "    for num in arr:\n",
        "        total += 1\n",
        "    return total\n",
        "\n",
        "# 딕셔너리일때 len 구하기\n",
        "def get_len_dict(data):\n",
        "    total = 0\n",
        "    for value in data.values():\n",
        "        total +=1\n",
        "    return total\n",
        "\n",
        "# max 구하기\n",
        "def get_max(max):\n",
        "    max_num = arr[0]\n",
        "    for num in arr:\n",
        "        if max_num < num:\n",
        "            max_num = num\n",
        "    return max_num\n",
        "\n",
        "# 딕셔너리일때 max 구하기\n",
        "def get_max_dict(data):\n",
        "    values = list(data.values())\n",
        "    max_num = values[0]\n",
        "    for value in values:\n",
        "        if max_num < value:\n",
        "            max_num = value\n",
        "    return max_num\n",
        "\n",
        "# min 구하기\n",
        "def get_min(arr):\n",
        "    min_num = arr[0]\n",
        "    for num in arr:\n",
        "        if min_num > num:\n",
        "            min_num = num\n",
        "    return min_num\n",
        "\n",
        "# 딕셔너리일때 min 구하기\n",
        "def get_min_dict(data):\n",
        "    values = list(data.values())\n",
        "    min_num = values[0]\n",
        "    for value in values:\n",
        "        if min_num > value:\n",
        "            min_num = value\n",
        "    return min_num\n",
        "\n",
        "# 평균값 구하기\n",
        "sum_v = get_sum(arr)\n",
        "N = get_len(arr)\n",
        "avg = sum_v / N\n",
        "print(round(avg, 2))\n",
        "print(f'{avg:.0f}')\n",
        "print(int(avg))\n",
        "\n",
        "# 딕셔너리일때 평균값 구하기\n",
        "sum_d = get_sum_dict(data)\n",
        "N = get_len_dict(data)\n",
        "avg = sum_d / N\n",
        "print(round(avg, 2))\n",
        "\n",
        "print(get_len(arr))\n",
        "print(get_len_dict(data))\n",
        "print(get_max(arr))\n",
        "print(get_max_dict(data))\n",
        "print(get_min(arr))\n",
        "print(get_min_dict(data))\n",
        "print(get_sum(arr))\n",
        "print(get_sum_dict(data))\n"
      ]
    },
    {
      "cell_type": "markdown",
      "source": [
        "## Set 쓰지 않고 중복제거"
      ],
      "metadata": {
        "id": "xl7U14rlxYtA"
      }
    },
    {
      "cell_type": "code",
      "source": [
        "arr = [3, 2, 1, 4, 5, 32]\n",
        "data = {'a': 3, 'b': 2, 'c': 1, 'd': 4, 'e': 5}"
      ],
      "metadata": {
        "id": "Ur6gEqT94iZY"
      },
      "execution_count": null,
      "outputs": []
    },
    {
      "cell_type": "markdown",
      "source": [
        "## 정답"
      ],
      "metadata": {
        "id": "f5QDqcga4kNG"
      }
    },
    {
      "cell_type": "code",
      "source": [
        "# 중복 제거하기\n",
        "arr = [1, 3, 4, 3, 5, 3]\n",
        "data = {'a': 3, 'b': 2, 'c': 1, 'd': 4, 'e': 5}\n",
        "\n",
        "def get_set(arr):\n",
        "    result = []\n",
        "    for num in arr:\n",
        "        if num not in result:\n",
        "            result.append(num)\n",
        "    return result\n",
        "\n",
        "# 딕셔너리 중복제거하기\n",
        "\n",
        "def remove_duplicates_dict(data):\n",
        "    seen_values = []  # 이미 본 값들을 저장할 리스트\n",
        "    result = {}\n",
        "\n",
        "    for key, value in data.items():\n",
        "        if value not in seen_values:\n",
        "            seen_values.append(value)  # 중복 체크 리스트에 추가\n",
        "            result[key] = value  # 결과 딕셔너리에 추가\n",
        "\n",
        "    return result\n",
        "\n",
        "\n",
        "print(get_set(arr))\n"
      ],
      "metadata": {
        "colab": {
          "base_uri": "https://localhost:8080/"
        },
        "id": "_-LSyxtu2Py3",
        "outputId": "6c753224-de40-44dc-ae83-51dd8703f547"
      },
      "execution_count": null,
      "outputs": [
        {
          "output_type": "stream",
          "name": "stdout",
          "text": [
            "[1, 3, 4, 5]\n"
          ]
        }
      ]
    },
    {
      "cell_type": "markdown",
      "source": [
        "## [실습 3일차]"
      ],
      "metadata": {
        "id": "1DuremuG5Bht"
      }
    },
    {
      "cell_type": "code",
      "source": [
        "def sum_digits(n):\n",
        "    total = 0\n",
        "    while n > 0:\n",
        "        total += n % 10  # 마지막 자릿수 추출하여 더하기\n",
        "        n //= 10  # 마지막 자릿수 제거\n",
        "    return total\n"
      ],
      "metadata": {
        "id": "TYIHJLp-CF4L"
      },
      "execution_count": null,
      "outputs": []
    },
    {
      "cell_type": "code",
      "source": [
        "## 주어진 코드\n",
        "number_of_people = 0\n",
        "\n",
        "\n",
        "def increase_user():\n",
        "    global number_of_people\n",
        "    number_of_people += 1\n",
        "\n",
        "def create_user(name, age, address):\n",
        "    user_info = {'name' : name, 'age' : age, 'address': address}\n",
        "    increase_user()\n",
        "    print(f\"{name}님 환영합니다!\")\n",
        "    return user_info\n",
        "\n",
        "print(f\"현재 가입 된 유저 수 : {number_of_people}\")\n",
        "result = create_user('홍길동', 25, '서울')\n",
        "print(result)\n",
        "print(f\"현재 가입 된 유저 수 : {number_of_people}\")\n",
        ""
      ],
      "metadata": {
        "id": "VtIAWxZ0EM0v",
        "colab": {
          "base_uri": "https://localhost:8080/"
        },
        "outputId": "86133283-836d-4fa0-a2a6-ef1882a06e6c"
      },
      "execution_count": 80,
      "outputs": [
        {
          "output_type": "stream",
          "name": "stdout",
          "text": [
            "현재 가입 된 유저 수 : 0\n",
            "홍길동님 환영합니다!\n",
            "{'name': '홍길동', 'age': 25, 'address': '서울'}\n",
            "현재 가입 된 유저 수 : 1\n"
          ]
        }
      ]
    },
    {
      "cell_type": "code",
      "source": [
        "## 주어진 코드\n",
        "def rental_book(name, book):\n",
        "    decrease_book(book)\n",
        "    print(f'{name}님이 {book}권의 책을 대여하였습니다.')\n",
        "\n",
        "number_of_book = 100\n",
        "\n",
        "def decrease_book(book):\n",
        "    global number_of_book\n",
        "    number_of_book -= book\n",
        "    print(f\"남은 책의 수 : {number_of_book}\")\n",
        "\n",
        "new_user = rental_book('홍길동', 3)"
      ],
      "metadata": {
        "colab": {
          "base_uri": "https://localhost:8080/"
        },
        "id": "nGIR0a89zjix",
        "outputId": "8361d42e-65d3-4926-8454-9faace0e499e"
      },
      "execution_count": 86,
      "outputs": [
        {
          "output_type": "stream",
          "name": "stdout",
          "text": [
            "남은 책의 수 : 97\n",
            "홍길동님이 3권의 책을 대여하였습니다.\n"
          ]
        }
      ]
    },
    {
      "cell_type": "code",
      "source": [
        "## 주어진 코드\n",
        "\n",
        "number_of_people = 0\n",
        "\n",
        "\n",
        "def increase_user():\n",
        "    global number_of_people\n",
        "    number_of_people += 1\n",
        "\n",
        "\n",
        "def create_user(name, age, address):\n",
        "    user_info = {'name' : name, 'age' : age, 'address': address}\n",
        "    increase_user()\n",
        "    print(f\"{name}님 환영합니다!\")\n",
        "    return user_info\n",
        "\n",
        "\n",
        "name = ['김시습', '허균', '남영로', '임제', '박지원']\n",
        "age = [20, 16, 52, 36, 60]\n",
        "address = ['서울', '강릉', '조선', '나주', '한성부']\n",
        "\n",
        "result = list(map(lambda i : create_user(name[i], age[i], address[i]), range(len(name))))\n",
        "print(result)"
      ],
      "metadata": {
        "colab": {
          "base_uri": "https://localhost:8080/"
        },
        "id": "VbPGBFT70oju",
        "outputId": "70a9fb27-0140-42cc-8d13-0ed0c9261412"
      },
      "execution_count": 90,
      "outputs": [
        {
          "output_type": "stream",
          "name": "stdout",
          "text": [
            "김시습님 환영합니다!\n",
            "허균님 환영합니다!\n",
            "남영로님 환영합니다!\n",
            "임제님 환영합니다!\n",
            "박지원님 환영합니다!\n",
            "[{'name': '김시습', 'age': 20, 'address': '서울'}, {'name': '허균', 'age': 16, 'address': '강릉'}, {'name': '남영로', 'age': 52, 'address': '조선'}, {'name': '임제', 'age': 36, 'address': '나주'}, {'name': '박지원', 'age': 60, 'address': '한성부'}]\n"
          ]
        }
      ]
    },
    {
      "cell_type": "code",
      "source": [
        "## 주어진 코드\n",
        "\n",
        "number_of_people = 0\n",
        "\n",
        "def rental_book(info):\n",
        "    decrease_book(book)\n",
        "    print(f'{name}님이 {book}권의 책을 대여하였습니다.')\n",
        "\n",
        "number_of_book = 100\n",
        "\n",
        "def decrease_book(book):\n",
        "    global number_of_book\n",
        "    number_of_book -= book\n",
        "    print(f\"남은 책의 수 : {number_of_book}\")\n",
        "\n",
        "new_user = rental_book('홍길동', 3)\n",
        "\n",
        "\n",
        "def increase_user():\n",
        "    global number_of_people\n",
        "    number_of_people += 1\n",
        "\n",
        "\n",
        "def create_user(name, age, address):\n",
        "    user_info = {'name' : name, 'age' : age, 'address': address}\n",
        "    increase_user()\n",
        "    print(f\"{name}님 환영합니다!\")\n",
        "    return user_info\n",
        "\n",
        "\n",
        "name = ['김시습', '허균', '남영로', '임제', '박지원']\n",
        "age = [20, 16, 52, 36, 60]\n",
        "address = ['서울', '강릉', '조선', '나주', '한성부']\n",
        "\n",
        "result = list(map(lambda i : create_user(name[i], age[i], address[i]), range(len(name))))\n",
        "print(result)"
      ],
      "metadata": {
        "id": "OhS5IlKm1pOU"
      },
      "execution_count": null,
      "outputs": []
    },
    {
      "cell_type": "code",
      "source": [
        "# 1. 절댓값을 반환하는 함수 abs를 사용하여 아래 변수에 담긴 값의 절댓값을 출력하시오.\n",
        "negative = -3\n",
        "print(abs(negative))\n",
        "\n",
        "# 2. 아래 변수에 담긴 값의 boolean 값을 출력하시오.\n",
        "empty_list = []\n",
        "print(bool(empty_list))\n",
        "\n",
        "# 3. 주어진 리스트가 가진 모든 값을 더한 결과를 출력하시오.\n",
        "my_list = [1, 2, 3, 4, 5]\n",
        "print(sum(my_list))\n",
        "\n",
        "# 4. 주어진 정렬을 오름차순으로 정렬한 결과를 출력하시오.\n",
        "unsorted_list = ['하', '교', '캅', '의', '지', '가']\n",
        "unsorted_list.sort()\n",
        "print(unsorted_list)"
      ],
      "metadata": {
        "colab": {
          "base_uri": "https://localhost:8080/"
        },
        "id": "WGy5ylgz1-dJ",
        "outputId": "2fa14a70-6845-4bea-9532-3425248411a2"
      },
      "execution_count": 91,
      "outputs": [
        {
          "output_type": "stream",
          "name": "stdout",
          "text": [
            "3\n",
            "False\n",
            "15\n",
            "['가', '교', '의', '지', '캅', '하']\n"
          ]
        }
      ]
    },
    {
      "cell_type": "markdown",
      "source": [
        "## [실습 4일차]"
      ],
      "metadata": {
        "id": "tv90BjUb4899"
      }
    },
    {
      "cell_type": "code",
      "source": [
        "#주어진 코드\n",
        "\n",
        "food_list = [\n",
        "    {\n",
        "        '종류': '한식',\n",
        "        '이름': '잡채'\n",
        "    },\n",
        "    {\n",
        "        '종류': '채소',\n",
        "        '이름': '토마토'\n",
        "    },\n",
        "    {\n",
        "        '종류': '중식',\n",
        "        '이름': '자장면'\n",
        "    },\n",
        "]\n",
        "\n",
        "# 아래에 코드를 작성하시오.\n",
        "for food in food_list:\n",
        "    if food['이름'] == '토마토':\n",
        "        food['종류'] = '과일'\n",
        "        print(f\"{food['이름']} 은/는 {food['종류']} (이)다.\")\n",
        "    elif food['이름'] == '자장면':\n",
        "        print('자장면엔 고춧가루지')\n",
        "        print(f\"{food['이름']} 은/는 {food['종류']} (이)다.\")\n",
        "    else:\n",
        "        print(f\"{food['이름']} 은/는 {food['종류']} (이)다.\")\n",
        "\n",
        "print(food_list)\n"
      ],
      "metadata": {
        "colab": {
          "base_uri": "https://localhost:8080/"
        },
        "id": "KIcLy2M447KB",
        "outputId": "7ff99e06-a487-4cbb-840e-2194e9d33b5a"
      },
      "execution_count": null,
      "outputs": [
        {
          "output_type": "stream",
          "name": "stdout",
          "text": [
            "잡채 은/는 한식 (이)다.\n",
            "토마토 은/는 과일 (이)다.\n",
            "자장면엔 고춧가루지\n",
            "자장면 은/는 중식 (이)다.\n",
            "[{'종류': '한식', '이름': '잡채'}, {'종류': '과일', '이름': '토마토'}, {'종류': '중식', '이름': '자장면'}]\n"
          ]
        }
      ]
    },
    {
      "cell_type": "code",
      "source": [
        "i = 0\n",
        "while i < len(food_list):\n",
        "    food = food_list[i]\n",
        "    if food['이름'] == '토마토':\n",
        "        food['종류'] = '과일'\n",
        "        print(f\"{food['이름']} 은/는 {food['종류']} (이)다.\")\n",
        "    elif food['이름'] == '자장면':\n",
        "        print('자장면엔 고춧가루지')\n",
        "        print(f\"{food['이름']} 은/는 {food['종류']} (이)다.\")\n",
        "    else:\n",
        "        print(f\"{food['이름']} 은/는 {food['종류']} (이)다.\")\n",
        "    i += 1\n",
        "\n",
        "print(food_list)\n"
      ],
      "metadata": {
        "colab": {
          "base_uri": "https://localhost:8080/"
        },
        "id": "QI7mSxoC5WUQ",
        "outputId": "a9791a19-b577-4c04-cff0-d4a1e3af6dcc"
      },
      "execution_count": null,
      "outputs": [
        {
          "output_type": "stream",
          "name": "stdout",
          "text": [
            "잡채 은/는 한식 (이)다.\n",
            "토마토 은/는 과일 (이)다.\n",
            "자장면엔 고춧가루지\n",
            "자장면 은/는 중식 (이)다.\n",
            "[{'종류': '한식', '이름': '잡채'}, {'종류': '과일', '이름': '토마토'}, {'종류': '중식', '이름': '자장면'}]\n"
          ]
        }
      ]
    },
    {
      "cell_type": "code",
      "source": [
        "#주어진 코드\n",
        "matrix = [\n",
        "        ['0, 1', '0, 2', '0, 3'],\n",
        "        ['1, 0', '1, 1', '1, 2', '1, 3'],\n",
        "        ['2, 0', '2, 1', '2, 2', '2, 3', '2, 4'],\n",
        "        ['3, 0', '3, 1'],\n",
        "        ['4, 0', '4, 1', '4, 2'],\n",
        "        ['5, 0']\n",
        "    ]\n",
        "# 아래에 코드를 작성하시오.\n",
        "\n",
        "#(1)\n",
        "matrix_len = 0\n",
        "for num in matrix:\n",
        "    matrix_len += 1\n",
        "print(matrix_len)\n",
        "\n",
        "#(2)\n",
        "for number in matrix:\n",
        "    temporary_len = 0\n",
        "    for _ in number :\n",
        "        temporary_len +=1\n",
        "\n",
        "    if temporary_len <= 4:\n",
        "        print(f\"{number}리스트는 {temporary_len}개만큼 요소를 가지고 있습니다.\")\n",
        "\n",
        "#(3)\n",
        "for x in range(len(matrix)):\n",
        "    for y in range(len(matrix[x])):\n",
        "        print(f\"matrix의 {x}, {y}번째 요소의 값은 {matrix[x][y]}입니다.\")"
      ],
      "metadata": {
        "colab": {
          "base_uri": "https://localhost:8080/"
        },
        "id": "vzAxodgM9VLO",
        "outputId": "a1ded36a-063e-4890-a81c-594828a81399"
      },
      "execution_count": null,
      "outputs": [
        {
          "output_type": "stream",
          "name": "stdout",
          "text": [
            "6\n",
            "['0, 1', '0, 2', '0, 3']리스트는 3개만큼 요소를 가지고 있습니다.\n",
            "['1, 0', '1, 1', '1, 2', '1, 3']리스트는 4개만큼 요소를 가지고 있습니다.\n",
            "['3, 0', '3, 1']리스트는 2개만큼 요소를 가지고 있습니다.\n",
            "['4, 0', '4, 1', '4, 2']리스트는 3개만큼 요소를 가지고 있습니다.\n",
            "['5, 0']리스트는 1개만큼 요소를 가지고 있습니다.\n",
            "matrix의 0, 0번째 요소의 값은 0, 1입니다.\n",
            "matrix의 0, 1번째 요소의 값은 0, 2입니다.\n",
            "matrix의 0, 2번째 요소의 값은 0, 3입니다.\n",
            "matrix의 1, 0번째 요소의 값은 1, 0입니다.\n",
            "matrix의 1, 1번째 요소의 값은 1, 1입니다.\n",
            "matrix의 1, 2번째 요소의 값은 1, 2입니다.\n",
            "matrix의 1, 3번째 요소의 값은 1, 3입니다.\n",
            "matrix의 2, 0번째 요소의 값은 2, 0입니다.\n",
            "matrix의 2, 1번째 요소의 값은 2, 1입니다.\n",
            "matrix의 2, 2번째 요소의 값은 2, 2입니다.\n",
            "matrix의 2, 3번째 요소의 값은 2, 3입니다.\n",
            "matrix의 2, 4번째 요소의 값은 2, 4입니다.\n",
            "matrix의 3, 0번째 요소의 값은 3, 0입니다.\n",
            "matrix의 3, 1번째 요소의 값은 3, 1입니다.\n",
            "matrix의 4, 0번째 요소의 값은 4, 0입니다.\n",
            "matrix의 4, 1번째 요소의 값은 4, 1입니다.\n",
            "matrix의 4, 2번째 요소의 값은 4, 2입니다.\n",
            "matrix의 5, 0번째 요소의 값은 5, 0입니다.\n"
          ]
        }
      ]
    },
    {
      "cell_type": "code",
      "source": [
        "import requests\n",
        "\n",
        "dummy_data = []\n",
        "\n",
        "for i in range(1, 10):\n",
        "    API_URL = f"
      ],
      "metadata": {
        "id": "mu6MigqA85z5"
      },
      "execution_count": null,
      "outputs": []
    },
    {
      "cell_type": "code",
      "source": [
        "# 주어진 코드\n",
        "list_of_book = [\n",
        "    '장화홍련전',\n",
        "    '가락국 신화',\n",
        "    '온달 설화',\n",
        "    '금오신화',\n",
        "    '이생규장전',\n",
        "    '만복자서포기',\n",
        "    '수성지',\n",
        "    '백호집',\n",
        "    '원생몽유록',\n",
        "    '홍길동전',\n",
        "    '장생전',\n",
        "    '도문대작',\n",
        "    '옥루몽',\n",
        "    '옥련몽',\n",
        "]\n",
        "\n",
        "rental_list = [\n",
        "    '장생전',\n",
        "    '원생몽유록',\n",
        "    '이생규장전',\n",
        "    '장화홍련전',\n",
        "    '수성지',\n",
        "    '백호집',\n",
        "    '난중일기',\n",
        "    '홍길동전',\n",
        "    '만복자서포기',\n",
        "]\n",
        "\n",
        "for book in rental_list:\n",
        "    flag = True\n",
        "    if book not in list_of_book:\n",
        "        print(f\"{book}은 보유하고 있지 않습니다.\")\n",
        "        flag = False\n",
        "        break\n",
        "if flag == True:\n",
        "    print('모든 도서가 대여 가능한 상태입니다.')"
      ],
      "metadata": {
        "colab": {
          "base_uri": "https://localhost:8080/"
        },
        "id": "XG4C-HORAiRj",
        "outputId": "4eb17b34-5a7c-4dda-aac1-57d6c8885f9d"
      },
      "execution_count": null,
      "outputs": [
        {
          "output_type": "stream",
          "name": "stdout",
          "text": [
            "난중일기은 보유하고 있지 않습니다.\n"
          ]
        }
      ]
    },
    {
      "cell_type": "code",
      "source": [
        "# 주어진 코드\n",
        "list_of_book = [\n",
        "    '장화홍련전',\n",
        "    '가락국 신화',\n",
        "    '온달 설화',\n",
        "    '금오신화',\n",
        "    '이생규장전',\n",
        "    '만복자서포기',\n",
        "    '수성지',\n",
        "    '백호집',\n",
        "    '원생몽유록',\n",
        "    '홍길동전',\n",
        "    '장생전',\n",
        "    '도문대작',\n",
        "    '옥루몽',\n",
        "    '옥련몽',\n",
        "]\n",
        "\n",
        "rental_book = [\n",
        "    '장생전',\n",
        "    '위대한 개츠비',\n",
        "    '원생몽유록',\n",
        "    '이생규장전',\n",
        "    '데미안',\n",
        "    '장화홍련전',\n",
        "    '수성지',\n",
        "    '백호집',\n",
        "    '난중일기',\n",
        "    '홍길동전',\n",
        "    '만복자서포기',\n",
        "]\n",
        "\n",
        "missing_book = [book for book in rental_book if book not in list_of_book]\n",
        "\n",
        "if missing_book:\n",
        "    for book in missing_book:\n",
        "        print(f\"{book}을/를 보충해야 합니다.\")\n",
        "else :\n",
        "    print(\"모든 도서가 대여 가능한 상태입니다.\")\n"
      ],
      "metadata": {
        "colab": {
          "base_uri": "https://localhost:8080/"
        },
        "id": "QrW1rlbaBEdF",
        "outputId": "70b4615a-2d22-4ab8-bd3d-0cfaefce0dff"
      },
      "execution_count": null,
      "outputs": [
        {
          "output_type": "stream",
          "name": "stdout",
          "text": [
            "위대한 개츠비을/를 보충해야 합니다.\n",
            "데미안을/를 보충해야 합니다.\n",
            "난중일기을/를 보충해야 합니다.\n"
          ]
        }
      ]
    },
    {
      "cell_type": "code",
      "source": [
        "\n",
        "food_list = [\n",
        "    {\n",
        "        '종류': '한식',\n",
        "        '이름': '잡채'\n",
        "    },\n",
        "    {\n",
        "        '종류': '채소',\n",
        "        '이름': '토마토'\n",
        "    },\n",
        "    {\n",
        "        '종류': '중식',\n",
        "        '이름': '자장면'\n",
        "    },\n",
        "]\n",
        "\n",
        "i = 0\n",
        "while i < len(food_list):\n",
        "    food = food_list[i]\n",
        "    for food in food_list:\n",
        "        if food['이름'] == '토마토':\n",
        "            food['종류'] = '과일'\n",
        "            print(f\"{food['이름']}은/는 {food['종류']}(이)다.\")\n",
        "        elif food['이름'] == '자장면':\n",
        "            print('자장면엔 고춧가루지')\n",
        "            print(f\"{food['이름']}은/는 {food['종류']}이다.\")\n",
        "        else :\n",
        "            print(f\"{food['이름']}은/는 {food['종류']}이다.\")\n",
        "\n",
        "        i += 1\n",
        "\n",
        "print(food_list)"
      ],
      "metadata": {
        "id": "tIDPTGj55Dkq",
        "colab": {
          "base_uri": "https://localhost:8080/"
        },
        "outputId": "d091c0d6-f016-491f-8583-b25195c4757a"
      },
      "execution_count": 92,
      "outputs": [
        {
          "output_type": "stream",
          "name": "stdout",
          "text": [
            "잡채은/는 한식이다.\n",
            "토마토은/는 과일(이)다.\n",
            "자장면엔 고춧가루지\n",
            "자장면은/는 중식이다.\n",
            "[{'종류': '한식', '이름': '잡채'}, {'종류': '과일', '이름': '토마토'}, {'종류': '중식', '이름': '자장면'}]\n"
          ]
        }
      ]
    },
    {
      "cell_type": "code",
      "source": [
        "#주어진 코드\n",
        "matrix = [\n",
        "        ['0, 1', '0, 2', '0, 3'],\n",
        "        ['1, 0', '1, 1', '1, 2', '1, 3'],\n",
        "        ['2, 0', '2, 1', '2, 2', '2, 3', '2, 4'],\n",
        "        ['3, 0', '3, 1'],\n",
        "        ['4, 0', '4, 1', '4, 2'],\n",
        "        ['5, 0']\n",
        "    ]\n",
        "# 아래에 코드를 작성하시오.\n",
        "\n",
        "matrix_len = 0\n",
        "for data in matrix:\n",
        "    matrix_len +=1\n",
        "\n",
        "print(matrix_len)\n",
        "\n",
        "for number in matrix:\n",
        "    temporary_len = 0\n",
        "    for _ in number:\n",
        "        temporary_len += 1\n",
        "    if temporary_len <= 4:\n",
        "        print(f\"{number}리스트는 {temporary_len}만큼 요소를 가지고 있습니다.\")\n",
        "\n",
        "for x in range(len(matrix)):\n",
        "    for y in range(len(matrix[x])):\n",
        "        print(f\"matrix의 {x}, {y}번째 요소의 값은 {matrix[x][y]}입니다.\")"
      ],
      "metadata": {
        "colab": {
          "base_uri": "https://localhost:8080/"
        },
        "id": "0kYRW2kp6099",
        "outputId": "6d3c7556-9a54-4b84-a19c-fb34860ca638"
      },
      "execution_count": 99,
      "outputs": [
        {
          "output_type": "stream",
          "name": "stdout",
          "text": [
            "6\n",
            "['0, 1', '0, 2', '0, 3']리스트는 3만큼 요소를 가지고 있습니다.\n",
            "['1, 0', '1, 1', '1, 2', '1, 3']리스트는 4만큼 요소를 가지고 있습니다.\n",
            "['3, 0', '3, 1']리스트는 2만큼 요소를 가지고 있습니다.\n",
            "['4, 0', '4, 1', '4, 2']리스트는 3만큼 요소를 가지고 있습니다.\n",
            "['5, 0']리스트는 1만큼 요소를 가지고 있습니다.\n",
            "matrix의 0, 0번째 요소의 값은 0, 1입니다.\n",
            "matrix의 0, 1번째 요소의 값은 0, 2입니다.\n",
            "matrix의 0, 2번째 요소의 값은 0, 3입니다.\n",
            "matrix의 1, 0번째 요소의 값은 1, 0입니다.\n",
            "matrix의 1, 1번째 요소의 값은 1, 1입니다.\n",
            "matrix의 1, 2번째 요소의 값은 1, 2입니다.\n",
            "matrix의 1, 3번째 요소의 값은 1, 3입니다.\n",
            "matrix의 2, 0번째 요소의 값은 2, 0입니다.\n",
            "matrix의 2, 1번째 요소의 값은 2, 1입니다.\n",
            "matrix의 2, 2번째 요소의 값은 2, 2입니다.\n",
            "matrix의 2, 3번째 요소의 값은 2, 3입니다.\n",
            "matrix의 2, 4번째 요소의 값은 2, 4입니다.\n",
            "matrix의 3, 0번째 요소의 값은 3, 0입니다.\n",
            "matrix의 3, 1번째 요소의 값은 3, 1입니다.\n",
            "matrix의 4, 0번째 요소의 값은 4, 0입니다.\n",
            "matrix의 4, 1번째 요소의 값은 4, 1입니다.\n",
            "matrix의 4, 2번째 요소의 값은 4, 2입니다.\n",
            "matrix의 5, 0번째 요소의 값은 5, 0입니다.\n"
          ]
        }
      ]
    },
    {
      "cell_type": "markdown",
      "source": [
        "## [실습 5일차]"
      ],
      "metadata": {
        "id": "qCEII7r15D3e"
      }
    },
    {
      "cell_type": "code",
      "source": [
        "#주어진 코드\n",
        "N = 9\n",
        "data_1 = '123456789'\n",
        "arr_1 = []\n",
        "# 아래에 코드를 작성하시오.\n",
        "for char in data_1:\n",
        "    arr_1.append(char)\n",
        "print(arr_1)\n",
        "\n",
        "\n",
        "M = 15\n",
        "data_2 = '1 2 3 4 5 6 7 8 9 10 11 12 13 14 15'\n",
        "# 아래에 코드를 작성하시오.\n",
        "arr_2 = data_2.split(' ')\n",
        "for num in arr_2:\n",
        "    num = int(num)\n",
        "    if num % 2 == 1:\n",
        "        print(num)"
      ],
      "metadata": {
        "id": "fRa8U-wq5GTH",
        "colab": {
          "base_uri": "https://localhost:8080/"
        },
        "outputId": "c68769f4-cdd3-425e-ba00-40935227e59a"
      },
      "execution_count": 38,
      "outputs": [
        {
          "output_type": "stream",
          "name": "stdout",
          "text": [
            "['1', '2', '3', '4', '5', '6', '7', '8', '9']\n",
            "1\n",
            "3\n",
            "5\n",
            "7\n",
            "9\n",
            "11\n",
            "13\n",
            "15\n"
          ]
        }
      ]
    },
    {
      "cell_type": "code",
      "source": [
        "# 주어진 코드\n",
        "data_1 = 'qweqwYadnOyjnsaU4trwg asjnaAn245krRmkfE 42grTasdnHasdnvEasdn asdevadnBasdanEsdkqefqefvaSasdqaeeqqvedwt5hfbsdT24tewfd'\n",
        "'''\n",
        "예시코드\n",
        "arr = [1, 2, 3, 4, 5]\n",
        "for num in arr:\n",
        "    print(num, end='')\n",
        "출력결과 : 12345\n",
        "'''\n",
        "# 아래에 코드를 작성하시오.\n",
        "for char in data_1:\n",
        "    if (char.isupper() == True) or (char == ' '):\n",
        "        print(char, end='')\n",
        "\n",
        "\n",
        "\n",
        "print()\n",
        "data_2 = '걉파반샤팝다푸거맥파바자들퍼바배들밥샵파누타히매니배사바파힘다브사부힙헤베내테치대내'\n",
        "arr = []\n",
        "# 아래에 코드를 작성하시오.\n",
        "arr.append(data_2.find('내'))\n",
        "arr.append(data_2.find('힘'))\n",
        "arr.append(data_2.find('들'))\n",
        "arr.append(data_2.find('다'))\n",
        "print(arr)\n",
        "arr.sort()\n",
        "print(arr)\n",
        "\n",
        "for i in arr:\n",
        "    print(data_2[i], end = '')"
      ],
      "metadata": {
        "colab": {
          "base_uri": "https://localhost:8080/"
        },
        "id": "2StFIzbZhIh3",
        "outputId": "93d72be8-57ec-4658-b51e-468e354cb1fd"
      },
      "execution_count": 46,
      "outputs": [
        {
          "output_type": "stream",
          "name": "stdout",
          "text": [
            "YOU ARE THE BEST\n",
            "[37, 29, 12, 5]\n",
            "[5, 12, 29, 37]\n",
            "다들힘내"
          ]
        }
      ]
    },
    {
      "cell_type": "code",
      "source": [
        "# 주어진 코드\n",
        "def restructure_word(word, arr):\n",
        "    for char in word:\n",
        "        if char.isdecimal()== True:\n",
        "            char = int(char)\n",
        "            for _ in range(char):\n",
        "                arr.pop()\n",
        "        else:\n",
        "            arr.remove(char)\n",
        "    return arr\n",
        "\n",
        "original_word = '코딩 공부는ㄴ 1일ㄹ 1커ㅓ밋ㅅ @@@#^()#_+!&~:\"'\n",
        "word = '1ㄴ2ㄹ3ㅓ4ㅅ5'\n",
        "arr = []\n",
        "for char in original_word:\n",
        "    arr.extend(char)\n",
        "print(arr)\n",
        "\n",
        "\n",
        "\n",
        "result = restructure_word(word, arr)\n",
        "print(result)\n",
        "\n",
        "print(''.join(result))"
      ],
      "metadata": {
        "colab": {
          "base_uri": "https://localhost:8080/"
        },
        "id": "v9zr6mYwiUEg",
        "outputId": "41ceba43-ea36-4079-8838-503a3ec1492e"
      },
      "execution_count": 56,
      "outputs": [
        {
          "output_type": "stream",
          "name": "stdout",
          "text": [
            "['코', '딩', ' ', '공', '부', '는', 'ㄴ', ' ', '1', '일', 'ㄹ', ' ', '1', '커', 'ㅓ', '밋', 'ㅅ', ' ', '@', '@', '@', '#', '^', '(', ')', '#', '_', '+', '!', '&', '~', ':', '\"']\n",
            "['코', '딩', ' ', '공', '부', '는', ' ', '1', '일', ' ', '1', '커', '밋', ' ']\n",
            "코딩 공부는 1일 1커밋 \n"
          ]
        }
      ]
    },
    {
      "cell_type": "code",
      "source": [
        "# 아래 함수를 수정하시오.\n",
        "def reverse_string(S):\n",
        "    reversed_string = ''.join(reversed(S))\n",
        "    return reversed_string\n",
        "\n",
        "\n",
        "result = reverse_string(\"Hello, World!\")\n",
        "print(result)  # !dlroW ,olleH"
      ],
      "metadata": {
        "colab": {
          "base_uri": "https://localhost:8080/"
        },
        "id": "11-hsoitllK9",
        "outputId": "60861360-7edb-4755-b116-e5adb03b3a5e"
      },
      "execution_count": 57,
      "outputs": [
        {
          "output_type": "stream",
          "name": "stdout",
          "text": [
            "!dlroW ,olleH\n"
          ]
        }
      ]
    },
    {
      "cell_type": "code",
      "source": [
        "# 주어진 코드\n",
        "# 아래 함수를 수정하시오.\n",
        "def remove_duplicates(lst):\n",
        "    new_lst = []\n",
        "    for data in lst:\n",
        "        if data not in new_lst:\n",
        "            new_lst.append(data)\n",
        "\n",
        "    return new_lst\n",
        "\n",
        "\n",
        "result = remove_duplicates([1, 2, 2, 3, 4, 4, 5])\n",
        "print(result)"
      ],
      "metadata": {
        "colab": {
          "base_uri": "https://localhost:8080/"
        },
        "id": "L6c2whKGl5Ry",
        "outputId": "c1eedeac-f091-4b42-d3e5-86c307f26537"
      },
      "execution_count": 58,
      "outputs": [
        {
          "output_type": "stream",
          "name": "stdout",
          "text": [
            "[1, 2, 3, 4, 5]\n"
          ]
        }
      ]
    },
    {
      "cell_type": "code",
      "source": [
        "# 아래 함수를 수정하시오.\n",
        "def sort_tuple(tp):\n",
        "    stp = sorted(tp)\n",
        "    new_tuple = tuple(stp)\n",
        "\n",
        "    return new_tuple\n",
        "\n",
        "\n",
        "result = sort_tuple((5, 2, 8, 1, 3))\n",
        "print(result)"
      ],
      "metadata": {
        "colab": {
          "base_uri": "https://localhost:8080/"
        },
        "id": "oz_LNgpWmsXR",
        "outputId": "c5cf0992-f776-4e95-8712-4db38fe0ec05"
      },
      "execution_count": 61,
      "outputs": [
        {
          "output_type": "stream",
          "name": "stdout",
          "text": [
            "(1, 2, 3, 5, 8)\n"
          ]
        }
      ]
    },
    {
      "cell_type": "code",
      "source": [
        "# 주어진 코드\n",
        "# 아래 함수를 수정하시오.\n",
        "def capitalize_words(s):\n",
        "    return ''.join(word.capitalize() for word in s.split())\n",
        "\n",
        "\n",
        "result = capitalize_words(\"hello, world!\")\n",
        "print(result)"
      ],
      "metadata": {
        "colab": {
          "base_uri": "https://localhost:8080/"
        },
        "id": "lqH4JoHanQJ2",
        "outputId": "2442c529-b950-43f4-b198-ef10c84abaff"
      },
      "execution_count": 67,
      "outputs": [
        {
          "output_type": "stream",
          "name": "stdout",
          "text": [
            "Hello,World!\n"
          ]
        }
      ]
    },
    {
      "cell_type": "code",
      "source": [
        "# 주어진 코드\n",
        "# 아래 함수를 수정하시오.\n",
        "def even_elements(lst):\n",
        "    new_list = []\n",
        "    for num in lst:\n",
        "        new_list.extend([num])\n",
        "        if num % 2 == 1:\n",
        "            new_list.pop()\n",
        "    return new_list\n",
        "\n",
        "\n",
        "my_list = [1, 2, 3, 4, 5, 6, 7, 8, 9, 10]\n",
        "result = even_elements(my_list)\n",
        "print(result)"
      ],
      "metadata": {
        "colab": {
          "base_uri": "https://localhost:8080/"
        },
        "id": "wbG01Yw7pXHJ",
        "outputId": "d4e101c8-cc06-4821-d829-11ba80dd2224"
      },
      "execution_count": 74,
      "outputs": [
        {
          "output_type": "stream",
          "name": "stdout",
          "text": [
            "[2, 4, 6, 8, 10]\n"
          ]
        }
      ]
    },
    {
      "cell_type": "code",
      "source": [
        "def count_character(str1, str2):\n",
        "    return str1.count(str2)\n",
        "\n",
        "result = count_character(\"Hello, World!\", \"o\")\n",
        "print(result)  # 2"
      ],
      "metadata": {
        "colab": {
          "base_uri": "https://localhost:8080/"
        },
        "id": "q8RFngJcrWLu",
        "outputId": "bd807678-553f-4943-c348-2520bfcad6fd"
      },
      "execution_count": 75,
      "outputs": [
        {
          "output_type": "stream",
          "name": "stdout",
          "text": [
            "2\n"
          ]
        }
      ]
    },
    {
      "cell_type": "code",
      "source": [
        "def min2(lst):\n",
        "    min_v = lst[0]\n",
        "    for num in lst:\n",
        "        if num < min_v:\n",
        "            min_v = num\n",
        "    return min_v\n",
        "\n",
        "def max2(lst):\n",
        "    max_v = lst[0]\n",
        "    for num in lst:\n",
        "        if num > max_v:\n",
        "            max_v = num\n",
        "    return max_v\n",
        "\n",
        "\n",
        "\n",
        "def find_min_max(lst):\n",
        "    return(min2(lst), max2(lst)) #\n",
        "\n",
        "\n",
        "result = find_min_max([3, 1, 7, 2, 5])\n",
        "print(result)  # (1, 7)"
      ],
      "metadata": {
        "colab": {
          "base_uri": "https://localhost:8080/"
        },
        "id": "O91wBWVprfu-",
        "outputId": "8a1dfa64-c554-46c6-a799-e9bf53014dcc"
      },
      "execution_count": 77,
      "outputs": [
        {
          "output_type": "stream",
          "name": "stdout",
          "text": [
            "(1, 7)\n"
          ]
        }
      ]
    },
    {
      "cell_type": "markdown",
      "source": [
        "## [실습 6일차]"
      ],
      "metadata": {
        "id": "wYvG0YYW5GfZ"
      }
    },
    {
      "cell_type": "code",
      "source": [
        "# 주어진 코드\n",
        "my_set = {'가', '나', (0, 0)}\n",
        "my_dict = {\n",
        "        '가': 1,\n",
        "        (0, 0): '튜플도 키값으로 사용가능'\n",
        "    }\n",
        "\n",
        "# 아래에 코드를 작성하시오.\n",
        "# (1)\n",
        "# for data in my_set:\n",
        "#     if data in my_dict:\n",
        "#         print(f\"{my_dict.get(data)}\")\n",
        "#     else :\n",
        "#         print(None)\n",
        "\n",
        "#(2)\n",
        "for data in my_set:\n",
        "    print(f\"{my_dict.get(data, None)}\")\n",
        "\n",
        "#(3)\n",
        "var = (1, 2, 3, 'A')\n",
        "my_dict[var] = '변수로도 키 설정 가능'\n",
        "print(my_dict)"
      ],
      "metadata": {
        "id": "NgORbZ1B5Ipi",
        "colab": {
          "base_uri": "https://localhost:8080/"
        },
        "outputId": "93b71144-aaf3-4ca9-bf8f-aabeb00bb4f5"
      },
      "execution_count": 6,
      "outputs": [
        {
          "output_type": "stream",
          "name": "stdout",
          "text": [
            "None\n",
            "1\n",
            "튜플도 키값으로 사용가능\n",
            "{'가': 1, (0, 0): '튜플도 키값으로 사용가능', (1, 2, 3, 'A'): '변수로도 키 설정 가능'}\n"
          ]
        }
      ]
    },
    {
      "cell_type": "code",
      "source": [
        "# 주어진 코드\n",
        "data = {\n",
        "    '이름': '키위',\n",
        "    '종류': '새',\n",
        "    '원산지': '호주'\n",
        "}\n",
        "\n",
        "plus_data = {\n",
        "    '종류': '과일',\n",
        "    '가격': 30000\n",
        "}\n",
        "# 1. data가 가진 모든 키와 벨류 목록을 출력한다.\n",
        "print(data.items())\n",
        "\n",
        "# 2. data가 가진 벨류 목록들만 모아서 출력한다.\n",
        "print(data.values())\n",
        "\n",
        "# 3. data에서 'without' 키가 가진 value를 출력한다.\n",
        "    # 해당하는 키가 data에 없다면, 'unknown' 문자열을 출력한다.\n",
        "print(data.get('without', 'unknown'))\n",
        "\n",
        "# 4. plus_data가 가진 모든 키와 벨류를 data에 추가한다.\n",
        "data.update(plus_data)\n",
        "\n",
        "# 5. 변경된 data를 출력한다.\n",
        "print(data)"
      ],
      "metadata": {
        "colab": {
          "base_uri": "https://localhost:8080/"
        },
        "id": "18VfXuNHMpTB",
        "outputId": "5bda444d-38ba-4a4a-9725-a5d71fb9bd4f"
      },
      "execution_count": 9,
      "outputs": [
        {
          "output_type": "stream",
          "name": "stdout",
          "text": [
            "dict_items([('이름', '키위'), ('종류', '새'), ('원산지', '호주')])\n",
            "dict_values(['키위', '새', '호주'])\n",
            "unknown\n",
            "{'이름': '키위', '종류': '과일', '원산지': '호주', '가격': 30000}\n"
          ]
        }
      ]
    },
    {
      "cell_type": "code",
      "source": [
        "# 주어진 코드\n",
        "\n",
        "data = [\n",
        "    {\n",
        "        'name': 'galxy flip',\n",
        "        'company': 'samsung',\n",
        "        'is_collapsible': True,\n",
        "    },\n",
        "    {\n",
        "        'name': 'ipad',\n",
        "        'is_collapsible': False\n",
        "    },\n",
        "    {\n",
        "        'name': 'galxy fold',\n",
        "        'company': 'samsung',\n",
        "        'is_collapsible': True\n",
        "    },\n",
        "    {\n",
        "        'name': 'galxy note',\n",
        "        'company': 'samsung',\n",
        "        'is_collapsible': False\n",
        "    },\n",
        "    {\n",
        "        'name': 'optimus',\n",
        "        'is_collapsible': False\n",
        "    },\n",
        "]\n",
        "\n",
        "key_list = ['name', 'company', 'is_collapsible']\n",
        "\n",
        "for item in data:\n",
        "    for key in key_list:\n",
        "        value = item.get(key, item.setdefault(key, 'unknown'))\n",
        "        print(f\"{key}은/는 {value}입니다.\")\n",
        "    print('')"
      ],
      "metadata": {
        "colab": {
          "base_uri": "https://localhost:8080/"
        },
        "id": "u_oFclgwNRvm",
        "outputId": "7ae5ec11-6d75-4dc9-a272-af7460d75e24"
      },
      "execution_count": 14,
      "outputs": [
        {
          "output_type": "stream",
          "name": "stdout",
          "text": [
            "name은/는 galxy flip입니다.\n",
            "company은/는 samsung입니다.\n",
            "is_collapsible은/는 True입니다.\n",
            "\n",
            "name은/는 ipad입니다.\n",
            "company은/는 unknown입니다.\n",
            "is_collapsible은/는 False입니다.\n",
            "\n",
            "name은/는 galxy fold입니다.\n",
            "company은/는 samsung입니다.\n",
            "is_collapsible은/는 True입니다.\n",
            "\n",
            "name은/는 galxy note입니다.\n",
            "company은/는 samsung입니다.\n",
            "is_collapsible은/는 False입니다.\n",
            "\n",
            "name은/는 optimus입니다.\n",
            "company은/는 unknown입니다.\n",
            "is_collapsible은/는 False입니다.\n",
            "\n"
          ]
        }
      ]
    },
    {
      "cell_type": "code",
      "source": [
        "# 주어진 코드\n",
        "# 아래 함수를 수정하시오.\n",
        "def union_sets(set1, set2):\n",
        "    return set1 | set2\n",
        "\n",
        "def union_multiple_sets(*sets):\n",
        "    if len(sets) < 2:\n",
        "        print(\"최소 두 개의 셋이 필요합니다.\")\n",
        "    else:\n",
        "        union_sets = set()\n",
        "        for s in sets:\n",
        "            union_sets.update(s)\n",
        "        return union_sets\n",
        "\n",
        "result = union_sets({1, 2, 3}, {3, 4, 5})\n",
        "print(result)  # {1, 2, 3, 4, 5}\n",
        "\n",
        "result = union_multiple_sets({1, 2}, {3, 4}, {5, 6})\n",
        "print(result)  # {1, 2, 3, 4, 5, 6}\n",
        "\n",
        "result = union_multiple_sets({1, 2})\n",
        "# 출력 : 최소 두 개의 셋이 필요합니다"
      ],
      "metadata": {
        "colab": {
          "base_uri": "https://localhost:8080/"
        },
        "id": "_-veib48Px2V",
        "outputId": "e459cd96-e650-4f53-ccc7-781d41f4df24"
      },
      "execution_count": 30,
      "outputs": [
        {
          "output_type": "stream",
          "name": "stdout",
          "text": [
            "{1, 2, 3, 4, 5}\n",
            "{1, 2, 3, 4, 5, 6}\n",
            "최소 두 개의 셋이 필요합니다.\n"
          ]
        }
      ]
    },
    {
      "cell_type": "code",
      "source": [
        "# 주어진 코드\n",
        "# 아래 함수를 수정하시오.\n",
        "def get_value_from_dict(dict, key):\n",
        "    return dict.get(key, 'Unknown')\n",
        "\n",
        "\n",
        "my_dict = {'name': 'Alice', 'age': 25}\n",
        "result = get_value_from_dict(my_dict, 'name')\n",
        "print(result)  # Alice\n",
        "\n",
        "result = get_value_from_dict(my_dict, 'gender')\n",
        "print(result)  # Unknown"
      ],
      "metadata": {
        "colab": {
          "base_uri": "https://localhost:8080/"
        },
        "id": "nhxfdoVsRN3v",
        "outputId": "29faf56d-0818-4af1-f433-c66d9bfba0d8"
      },
      "execution_count": 19,
      "outputs": [
        {
          "output_type": "stream",
          "name": "stdout",
          "text": [
            "Alice\n",
            "Unknown\n"
          ]
        }
      ]
    },
    {
      "cell_type": "code",
      "source": [
        "# 주어진 코드\n",
        "# 아래 함수를 수정하시오.\n",
        "def intersection_sets(set1, set2):\n",
        "    intersections = set1 & set2\n",
        "    if intersections:\n",
        "        return len(intersections), intersections\n",
        "    else :\n",
        "        print(\"공통 요소가 없습니다.\")\n",
        "        return len(intersections), intersections\n",
        "\n",
        "\n",
        "result = intersection_sets({1, 2, 3}, {3, 4, 5})\n",
        "print(result)  # (1, {3})\n",
        "\n",
        "result = intersection_sets({1, 2}, {3, 4})\n",
        "print(result)  # (0, set())\n",
        "# 출력: 공통 요소가 없습니다"
      ],
      "metadata": {
        "colab": {
          "base_uri": "https://localhost:8080/"
        },
        "id": "9X0AbrK3Rll9",
        "outputId": "eb5eb544-caa1-42da-ccbf-5424e32af1b2"
      },
      "execution_count": 21,
      "outputs": [
        {
          "output_type": "stream",
          "name": "stdout",
          "text": [
            "(1, {3})\n",
            "공통 요소가 없습니다.\n",
            "(0, set())\n"
          ]
        }
      ]
    },
    {
      "cell_type": "code",
      "source": [
        "# 주어진 코드\n",
        "# 아래 함수를 수정하시오.\n",
        "def get_keys_from_dict(dictionary):\n",
        "    key = dictionary.keys()\n",
        "    return list(key)\n",
        "\n",
        "\n",
        "def get_all_keys_from_dict(dictionary):\n",
        "    all_keys = list(dictionary.keys())  # 최상위 키 추가\n",
        "    for value in dictionary.values():  # 값 탐색\n",
        "        if isinstance(value, dict):  # 값이 딕셔너리라면\n",
        "            all_keys.extend(get_all_keys_from_dict(value))  # 재귀적으로 키를 추가\n",
        "    return all_keys\n",
        "\n",
        "my_dict = {'name': 'Alice', 'age': 25}\n",
        "result = get_keys_from_dict(my_dict)\n",
        "print(result)  # ['name', 'age']\n",
        "\n",
        "my_dict = {'person': {'name': 'Alice', 'age': 25}, 'location': 'NY'}\n",
        "result = get_all_keys_from_dict(my_dict)\n",
        "print(result)  # ['person', 'name', 'age', 'location']\n"
      ],
      "metadata": {
        "colab": {
          "base_uri": "https://localhost:8080/"
        },
        "id": "EWzsuhXhTDjX",
        "outputId": "394e9d86-fd59-43b2-af66-f1de68c4e249"
      },
      "execution_count": 31,
      "outputs": [
        {
          "output_type": "stream",
          "name": "stdout",
          "text": [
            "['name', 'age']\n",
            "['person', 'location', 'name', 'age']\n"
          ]
        }
      ]
    },
    {
      "cell_type": "code",
      "source": [
        "def get_keys_from_dict(dictionary):\n",
        "    key = dictionary.keys()\n",
        "    return list(key)\n",
        "\n",
        "def get_all_keys_from_dict(dictionary):\n",
        "    all_keys = list(dictionary.keys())\n",
        "    for value in dictionary.values():\n",
        "        if isinstance(value, dict):\n",
        "            all_keys.extend(get_all_keys_from_dict(value))\n",
        "    return all_keys"
      ],
      "metadata": {
        "id": "x6mc6CXeYkly"
      },
      "execution_count": null,
      "outputs": []
    },
    {
      "cell_type": "code",
      "source": [],
      "metadata": {
        "id": "sOCLilM3bTbJ"
      },
      "execution_count": null,
      "outputs": []
    }
  ]
}