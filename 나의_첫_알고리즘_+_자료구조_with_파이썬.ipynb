{
  "nbformat": 4,
  "nbformat_minor": 0,
  "metadata": {
    "colab": {
      "provenance": [],
      "authorship_tag": "ABX9TyNg9AZqMRW90ScUWVIhYHit",
      "include_colab_link": true
    },
    "kernelspec": {
      "name": "python3",
      "display_name": "Python 3"
    },
    "language_info": {
      "name": "python"
    }
  },
  "cells": [
    {
      "cell_type": "markdown",
      "metadata": {
        "id": "view-in-github",
        "colab_type": "text"
      },
      "source": [
        "<a href=\"https://colab.research.google.com/github/DaramG-star/TIL/blob/master/%EB%82%98%EC%9D%98_%EC%B2%AB_%EC%95%8C%EA%B3%A0%EB%A6%AC%EC%A6%98_%2B_%EC%9E%90%EB%A3%8C%EA%B5%AC%EC%A1%B0_with_%ED%8C%8C%EC%9D%B4%EC%8D%AC.ipynb\" target=\"_parent\"><img src=\"https://colab.research.google.com/assets/colab-badge.svg\" alt=\"Open In Colab\"/></a>"
      ]
    },
    {
      "cell_type": "markdown",
      "source": [
        "## 자료구조의 분류\n",
        "\n",
        "**추상 데이터 타입**은 자료구조를 설명하는 데이터의 타입을 말하며, 자료구조는 추상 데이터 타입을 실제로 구현한 결과를 말한다.\n",
        "\n",
        "추상 데이터 타입인 리스트는 각 요소의 위치가 다른 요소에 의해 상대적으로 정해지는 데이터 타입으로, 요소를 추가하거나 제거하는 동작 역시 포함한다.\n",
        "\n",
        "반면, 파이썬 리스트는 추상 데이터 타입을 실제로 구현한 자료구조이다.\n",
        "파이썬에서는 추상 데이터타입인 리스트를 기반으로 파이썬 리스트와는 완전히 다른 자료구조를 만들 수 있다.\n",
        "\n",
        "선형 자료구조 : 데이터 요소를 순서대로 정렬\n",
        "\n",
        "비선형 자료구조 : 데이터를 비연속적으로 연결\n",
        "\n",
        "그래프 : 각 요소가 다른 여러 요소와 연결될 수 있는 비선형 자료구조\n",
        "\n"
      ],
      "metadata": {
        "id": "uI6mSxf4bBU_"
      }
    },
    {
      "cell_type": "markdown",
      "source": [
        "## [리스트]\n",
        "### 0 옮기기\n",
        "\n",
        "리스트에 있는 0을 모두 찾아 리스트의 마지막으로 옮기고, 나머지 요소는 원래 순서를 유지하여라.\n",
        "\n",
        "[8, 0, 3, 0, 12]"
      ],
      "metadata": {
        "id": "ta4SumtrjIiR"
      }
    },
    {
      "cell_type": "code",
      "execution_count": null,
      "metadata": {
        "colab": {
          "base_uri": "https://localhost:8080/"
        },
        "id": "buy54_kycYa_",
        "outputId": "14e2c071-d505-4fad-c88c-ae11b16dcb82"
      },
      "outputs": [
        {
          "output_type": "stream",
          "name": "stdout",
          "text": [
            "[8, 3, 2, 0, 0]\n"
          ]
        }
      ],
      "source": [
        "def move_zeros(lst):\n",
        "    zero_index = 0 # 변수를 초기화\n",
        "    for index, n in enumerate(lst): #lst의 모든 인덱스와 숫자를 확인\n",
        "        if n != 0: # n이 0이 아니면\n",
        "            lst[zero_index] = n #zero_index 값을 n으로 바꾸고 zero_index와 index가 일치하는지를 확인\n",
        "            if zero_index != index:\n",
        "                lst[index] = 0\n",
        "            zero_index += 1\n",
        "    return (lst)\n",
        "\n",
        "lst = [8, 0, 3, 0, 2]\n",
        "move_zeros(lst)\n",
        "print(lst)"
      ]
    },
    {
      "cell_type": "markdown",
      "source": [
        "### 리스트의 결합\n",
        "\n",
        "movie_list = [\"Interstellar\", \"Inception\", \"The Prestige\", \"Insomia\", \"Batman Begins\"]\n",
        "\n",
        "ratings_list = [1, 10, 10, 8, 6]"
      ],
      "metadata": {
        "id": "HFrHVFZ2lK9N"
      }
    },
    {
      "cell_type": "code",
      "source": [
        "movie_list = [\"Interstellar\", \"Inception\", \"The Prestige\", \"Insomia\", \"Batman Begins\"]\n",
        "\n",
        "ratings_list = [1, 10, 10, 8, 6]\n",
        "\n",
        "print(list(zip(movie_list, ratings_list)))"
      ],
      "metadata": {
        "colab": {
          "base_uri": "https://localhost:8080/"
        },
        "id": "eGHJAaxBlfdi",
        "outputId": "3bf123b7-2401-411b-9e8a-0eb2015c1520"
      },
      "execution_count": null,
      "outputs": [
        {
          "output_type": "stream",
          "name": "stdout",
          "text": [
            "[('Interstellar', 1), ('Inception', 10), ('The Prestige', 10), ('Insomia', 8), ('Batman Begins', 6)]\n"
          ]
        }
      ]
    },
    {
      "cell_type": "markdown",
      "source": [
        "### 중복 요소 찾기"
      ],
      "metadata": {
        "id": "Ew0VMJCmlqZe"
      }
    },
    {
      "cell_type": "code",
      "source": [
        "a_set = set()\n",
        "a_set.add(\"Kanye West\")\n",
        "a_set.add(\"Kendall Jenner\")\n",
        "a_set.add(\"Justin Bieber\")\n",
        "print(a_set)"
      ],
      "metadata": {
        "colab": {
          "base_uri": "https://localhost:8080/"
        },
        "id": "6GiAyLpslupW",
        "outputId": "38dc7229-8e57-448b-be55-00596aa8a51e"
      },
      "execution_count": null,
      "outputs": [
        {
          "output_type": "stream",
          "name": "stdout",
          "text": [
            "{'Kendall Jenner', 'Justin Bieber', 'Kanye West'}\n"
          ]
        }
      ]
    },
    {
      "cell_type": "code",
      "source": [
        "def return_dups(an_iterable):\n",
        "    dups = []\n",
        "    a_set = set()\n",
        "\n",
        "    for item in an_iterable:\n",
        "        I1 = len(a_set) # 추가하기 전이랑\n",
        "        a_set.add(item)\n",
        "        I2 = len(a_set) # 추가한 후랑 길이가 같다면\n",
        "        if I1 == I2:\n",
        "            dups.append(item) # dups에 넣기\n",
        "    return dups\n",
        "\n",
        "a_list = [\"Susan Adams\", \"Kwame Goodall\", \"Jill Hampton\", \"Susan Adams\"]\n",
        "\n",
        "dups = return_dups(a_list)\n",
        "print(dups)"
      ],
      "metadata": {
        "colab": {
          "base_uri": "https://localhost:8080/"
        },
        "id": "LEip2_ool-oN",
        "outputId": "6dd84bdc-fa4f-4609-85b3-16d7f3bf6f0a"
      },
      "execution_count": null,
      "outputs": [
        {
          "output_type": "stream",
          "name": "stdout",
          "text": [
            "['Susan Adams']\n"
          ]
        }
      ]
    },
    {
      "cell_type": "markdown",
      "source": [
        "### 두 리스트의 교집합 찾기\n",
        "\n",
        "this_weeks_winners = [2, 43, 48, 62, 64, 28, 3]\n",
        "\n",
        "most_common_winners = [1, 28, 42, 70, 2, 10, 62, 31, 4, 14]"
      ],
      "metadata": {
        "id": "1xcoONl9rlr7"
      }
    },
    {
      "cell_type": "code",
      "source": [
        "def return_inter(lst1, lst2):\n",
        "    lst3 = [v for v in lst1 if v in lst2]\n",
        "    return lst3\n",
        "\n",
        "lst1 = [2, 43, 48, 62, 64, 28, 3]\n",
        "lst2 = [1, 28, 42, 70, 2, 10, 62, 31, 4, 14]\n",
        "print(return_inter(lst1, lst2))"
      ],
      "metadata": {
        "colab": {
          "base_uri": "https://localhost:8080/"
        },
        "id": "qBerAiF6r27g",
        "outputId": "1bad1481-1671-49f0-ac4c-e3e0d648b4d9"
      },
      "execution_count": null,
      "outputs": [
        {
          "output_type": "stream",
          "name": "stdout",
          "text": [
            "[2, 62, 28]\n"
          ]
        }
      ]
    },
    {
      "cell_type": "markdown",
      "source": [
        "### 음이 아닌 정수로 구성되어 있는 배열에서 짝수만 추출한 배열과 홀수만 추출한 배열을 만들기"
      ],
      "metadata": {
        "id": "YuyZQg7usPTo"
      }
    },
    {
      "cell_type": "code",
      "source": [
        "lst = [1, 3, 2, 4, 5, 13, 14, 15, 63, 43, 52, 62, 77, 87, 57, 463, 241, 2131, 421, 124, 5346, 568, 586]\n",
        "\n",
        "even = [n for n in lst if n%2 == 0]\n",
        "\n",
        "odd = [n for n in lst if n%2 == 1]\n",
        "\n",
        "print(even)\n",
        "print(odd)"
      ],
      "metadata": {
        "colab": {
          "base_uri": "https://localhost:8080/"
        },
        "id": "CZRVQIcesUUw",
        "outputId": "722fbe49-801c-4e2c-e1aa-63dd884d4f90"
      },
      "execution_count": null,
      "outputs": [
        {
          "output_type": "stream",
          "name": "stdout",
          "text": [
            "[2, 4, 14, 52, 62, 124, 5346, 568, 586]\n",
            "[1, 3, 5, 13, 15, 63, 43, 77, 87, 57, 463, 241, 2131, 421]\n"
          ]
        }
      ]
    },
    {
      "cell_type": "markdown",
      "source": [
        "## 스택\n",
        "\n",
        "가장 최근에 추가한 요소만 제거할 수 있는 선형 자료구조\n",
        "\n",
        "**후입 선출 자료구조(LIFO)**란 말 그대로 마지막에 추가한 요소부터 꺼낼 수 있는 자료구조를 말합니다.\n",
        "\n",
        "반드시 순서를 따라야 하기 때문에 접근이 제한된 자료구조라고 하기도 합니다.\n",
        "\n",
        "푸시(pushing)는 스택에 요소를 추가하는 것을 의미하고, 팝(pop)은 스택에 마지막으로 추가한 요소를 꺼내는 것을 의미합니다.\n",
        "\n",
        "스택의 마지막에 있는 요소를 제거하지 않고 접근만 하는 픽(peeking)과 같은 동작을 정의하기도 합니다.\n",
        "\n",
        "**제한된 스택**은 추가할 수 있는 요소의 수에 제한이 있는 스택이고,\n",
        "**무제한 스택**은 추가할 수 있는 요소의 수에 제한이 없는 스택입니다.\n",
        "\n"
      ],
      "metadata": {
        "id": "UcQxZlQg8WXS"
      }
    },
    {
      "cell_type": "code",
      "source": [
        "class Stack:\n",
        "    def __init__(self):\n",
        "        self.items = []\n",
        "\n",
        "    def push(self, data):\n",
        "        self.items.append(data)\n",
        "\n",
        "    def pop(self):\n",
        "        return self.items.pop()\n",
        "\n",
        "    def size(self):\n",
        "        return len(self.items)\n",
        "\n",
        "    def is_empty(self):\n",
        "        return len(self.items) == 0\n",
        "\n",
        "    def peek(self):\n",
        "        return self.items[-1]"
      ],
      "metadata": {
        "id": "nICwcbG4BVOU"
      },
      "execution_count": null,
      "outputs": []
    },
    {
      "cell_type": "code",
      "source": [
        "class Node:\n",
        "    def __init__(self, data):\n",
        "        self.data = data\n",
        "        self.next = None\n",
        "\n",
        "class Stack:\n",
        "    def __init__(self):\n",
        "        self.head = None\n",
        "\n",
        "    def push(self, data):\n",
        "        node = Node(data)\n",
        "        if self.head is None:\n",
        "            self.head = node\n",
        "        else:\n",
        "            node.next = self.head\n",
        "            self.head = node\n",
        "\n",
        "    def pop(self):\n",
        "        if self.head is None:\n",
        "            raise IndexError('pop from empty stack')\n",
        "        poppednode = self.head\n",
        "        self.head = self.head.next\n",
        "        return poppednode.data"
      ],
      "metadata": {
        "id": "knq7cPdfKD1c"
      },
      "execution_count": null,
      "outputs": []
    },
    {
      "cell_type": "code",
      "source": [
        "stack = Stack()\n",
        "stack.push(1)\n",
        "stack.push(2)\n",
        "stack.push(3)\n",
        "\n",
        "for i in range(3):\n",
        "    print(stack.pop())"
      ],
      "metadata": {
        "colab": {
          "base_uri": "https://localhost:8080/"
        },
        "id": "kuIrVoPQPHwl",
        "outputId": "92b67b82-c08b-4c7d-a45c-bc79115c7e9d"
      },
      "execution_count": null,
      "outputs": [
        {
          "output_type": "stream",
          "name": "stdout",
          "text": [
            "3\n",
            "2\n",
            "1\n"
          ]
        }
      ]
    },
    {
      "cell_type": "code",
      "source": [
        "stack = []\n",
        "print(stack)\n",
        "stack.append('Kanye West')\n",
        "print(stack)\n",
        "stack.append('Jay-Z')\n",
        "print(stack)\n",
        "stack.append('Chance the Rapper')\n",
        "print(stack)\n",
        "stack.pop()\n",
        "print(stack)"
      ],
      "metadata": {
        "colab": {
          "base_uri": "https://localhost:8080/"
        },
        "id": "K4pfN6e7PU-D",
        "outputId": "7c082ae2-3561-41d0-ba2e-8d752cd60f7f"
      },
      "execution_count": null,
      "outputs": [
        {
          "output_type": "stream",
          "name": "stdout",
          "text": [
            "[]\n",
            "['Kanye West']\n",
            "['Kanye West', 'Jay-Z']\n",
            "['Kanye West', 'Jay-Z', 'Chance the Rapper']\n",
            "['Kanye West', 'Jay-Z']\n"
          ]
        }
      ]
    },
    {
      "cell_type": "markdown",
      "source": [
        "### 스택을 사용해 문자열 뒤집기\n"
      ],
      "metadata": {
        "id": "vxJLcrb6Poyp"
      }
    },
    {
      "cell_type": "code",
      "source": [
        "def reverse_string(a_string):\n",
        "    stack = []\n",
        "    string = \"\"\n",
        "    for c in a_string:\n",
        "        stack.append(c)\n",
        "    for c in a_string:\n",
        "        string += stack.pop()\n",
        "    return string\n",
        "\n",
        "print(reverse_string(\"Bieber\"))"
      ],
      "metadata": {
        "id": "MnckzHV2Pl0c",
        "colab": {
          "base_uri": "https://localhost:8080/"
        },
        "outputId": "200f2458-d9d5-4937-f592-885144aaacd7"
      },
      "execution_count": 1,
      "outputs": [
        {
          "output_type": "stream",
          "name": "stdout",
          "text": [
            "rebeiB\n"
          ]
        }
      ]
    },
    {
      "cell_type": "markdown",
      "source": [
        "## 최소 스택\n",
        "\n",
        "푸시와 팝과 같은 스택 동작으로 가장 작은 요소를 반환하는 메서드를 가진 자료구조를 설계하기\n",
        "\n",
        "가장 작은 요소를 추적하는 스택을 구현"
      ],
      "metadata": {
        "id": "KejJC-Ak-iiq"
      }
    },
    {
      "cell_type": "code",
      "source": [
        "class MinStack():\n",
        "    def __init__(self):\n",
        "        self.main = []\n",
        "        self.min = []\n",
        "\n",
        "    def push(self, n):\n",
        "        if len(self.main) == 0:\n",
        "            self.min.append(n)\n",
        "        elif n <= self.min[-1]:\n",
        "            self.min.append(n)\n",
        "        else:\n",
        "            self.min.append(self.min[-1])\n",
        "        self.main.append(n)\n",
        "\n",
        "    def pop(self):\n",
        "        self.min.pop()\n",
        "        return self.main.pop()\n",
        "\n",
        "    def get_min(self):\n",
        "        return self.min[-1]"
      ],
      "metadata": {
        "id": "mTfm6guh-yeR"
      },
      "execution_count": 2,
      "outputs": []
    },
    {
      "cell_type": "code",
      "source": [
        "min_stack = MinStack()\n",
        "min_stack.push(10)\n",
        "min_stack.push(15)\n",
        "print(min_stack.main)\n",
        "print(min_stack.min)"
      ],
      "metadata": {
        "colab": {
          "base_uri": "https://localhost:8080/"
        },
        "id": "fQtK53HG_WMQ",
        "outputId": "081b4592-182c-4f80-b4ad-48dd9cff9798"
      },
      "execution_count": 4,
      "outputs": [
        {
          "output_type": "stream",
          "name": "stdout",
          "text": [
            "[10, 15]\n",
            "[10, 10]\n"
          ]
        }
      ]
    },
    {
      "cell_type": "markdown",
      "source": [
        "## 스택과 괄호"
      ],
      "metadata": {
        "id": "-6XNMSFF_pHo"
      }
    },
    {
      "cell_type": "code",
      "source": [
        "def check_parentheses(strr):\n",
        "    stack = []\n",
        "    for c in strr:\n",
        "        if c == \"(\":\n",
        "            stack.append(c)\n",
        "        if c == \")\":\n",
        "            if len(stack) == 0:\n",
        "                return False\n",
        "            else:\n",
        "                stack.pop()\n",
        "\n",
        "    return len(stack) == 0\n",
        "\n",
        "print(check_parentheses(\"((()()((()()()))))\"))"
      ],
      "metadata": {
        "colab": {
          "base_uri": "https://localhost:8080/"
        },
        "id": "Ix0LQsPu_q73",
        "outputId": "b2964b80-bed0-46de-91dd-c563ee19e7ab"
      },
      "execution_count": 5,
      "outputs": [
        {
          "output_type": "stream",
          "name": "stdout",
          "text": [
            "True\n"
          ]
        }
      ]
    },
    {
      "cell_type": "markdown",
      "source": [
        "# 큐\n",
        "\n",
        "**선입 선출 자료구조**\n",
        "\n",
        "**인큐**로 요소를 큐에 추가\n",
        "\n",
        "**디큐**로 요소를 큐에서 제거\n",
        "\n"
      ],
      "metadata": {
        "id": "7aPF5f5yASrg"
      }
    },
    {
      "cell_type": "code",
      "source": [
        "from queue import Queue\n",
        "\n",
        "q = Queue()\n",
        "q.put('a')\n",
        "q.put('b')\n",
        "q.put('c')\n",
        "print(q.qsize())\n",
        "for i in range(3):\n",
        "    print(q.get())"
      ],
      "metadata": {
        "colab": {
          "base_uri": "https://localhost:8080/"
        },
        "id": "vPRVUXfuAkwP",
        "outputId": "3aa33e75-7a91-4fdc-fa50-e66691a0c0d0"
      },
      "execution_count": 6,
      "outputs": [
        {
          "output_type": "stream",
          "name": "stdout",
          "text": [
            "3\n",
            "a\n",
            "b\n",
            "c\n"
          ]
        }
      ]
    },
    {
      "cell_type": "markdown",
      "source": [
        "## 두개의 스택을 사용해 큐 만들기"
      ],
      "metadata": {
        "id": "nNzrIOz6BXiF"
      }
    },
    {
      "cell_type": "code",
      "source": [
        "class Queue:\n",
        "    def __init__(self):\n",
        "        self.s1 = [] # queue 클래스를 정의\n",
        "        self.s2 = []\n",
        "\n",
        "    def enqueue(self, item): # enqueue 메서드를 정의\n",
        "        while len(self.s1) != 0:\n",
        "            self.s2.append(self.s1.pop())\n",
        "        self.s1.append(item)\n",
        "        while len(self.s2) != 0:\n",
        "            self.s1.append(self.s2.pop())\n",
        "\n",
        "    def dequeue(self):\n",
        "        if len(self.s1) == 0: # 비어있는지 확인\n",
        "            raise Exception(\"Cannot pop from empty queue\")\n",
        "        return self.s1.pop"
      ],
      "metadata": {
        "id": "IirQxOEmBfVL"
      },
      "execution_count": null,
      "outputs": []
    },
    {
      "cell_type": "markdown",
      "source": [
        "# 해시 테이블\n",
        "\n",
        "연관 배열은 고유한 키를 사용해 키와 값의 쌍을 저장하는 추상 데이터 타입으로, 키-값 쌍은 키와 값을 하나로 묶은 데이터를 말한다.\n",
        "\n",
        "키는 값을 가져올 때 사용하고, 값은 키를 사용해 가져온 데이터이다."
      ],
      "metadata": {
        "id": "3ii_g39VCSSN"
      }
    },
    {
      "cell_type": "code",
      "source": [
        "a_dict = {}\n",
        "a_dict[1776] = 'Independence Year'\n",
        "print(a_dict[1776])"
      ],
      "metadata": {
        "colab": {
          "base_uri": "https://localhost:8080/"
        },
        "id": "gnTLWaBeCdZE",
        "outputId": "1441f1af-9665-4a8d-ccc3-3a006e473192"
      },
      "execution_count": 7,
      "outputs": [
        {
          "output_type": "stream",
          "name": "stdout",
          "text": [
            "Independence Year\n"
          ]
        }
      ]
    },
    {
      "cell_type": "markdown",
      "source": [
        "## 문자열 세기"
      ],
      "metadata": {
        "id": "3T3NbLMQCuOD"
      }
    },
    {
      "cell_type": "code",
      "source": [
        "def count(strr):\n",
        "    a_dict = {}\n",
        "    for char in strr:\n",
        "        if char in a_dict:\n",
        "            a_dict[char] += 1\n",
        "        else:\n",
        "            a_dict[char] = 1\n",
        "    print(a_dict)"
      ],
      "metadata": {
        "id": "cwSLVnPcCttM"
      },
      "execution_count": 8,
      "outputs": []
    },
    {
      "cell_type": "code",
      "source": [
        "result = count('daramdaram')\n",
        "print(result)"
      ],
      "metadata": {
        "colab": {
          "base_uri": "https://localhost:8080/"
        },
        "id": "Bl4gC6yADLeB",
        "outputId": "43c90148-c116-4d50-b3a3-241f538c9dd9"
      },
      "execution_count": 15,
      "outputs": [
        {
          "output_type": "stream",
          "name": "stdout",
          "text": [
            "{'d': 2, 'a': 4, 'r': 2, 'm': 2}\n",
            "None\n"
          ]
        }
      ]
    },
    {
      "cell_type": "markdown",
      "source": [
        "## 두수의 합"
      ],
      "metadata": {
        "id": "GqjsdTmBDjyi"
      }
    },
    {
      "cell_type": "code",
      "source": [
        "def two_sum_brute(the_list, target):\n",
        "    index_list = []\n",
        "    for i in range(0, len(the_list)):\n",
        "        for j in range(i, len(the_list)):\n",
        "            if the_list[i] + the_list[j] == target:\n",
        "                return [the_list[i], the_list[j]]"
      ],
      "metadata": {
        "id": "98sYxSdCDmjY"
      },
      "execution_count": null,
      "outputs": []
    },
    {
      "cell_type": "code",
      "source": [
        "strr = \"I am a self-taught programmer looking for a job as a programmer\"\n",
        "\n",
        "strr = list(strr.split())\n",
        "unique_str = \" \".join(dict.fromkeys(strr))  # 순서 유지하며 중복 제거\n",
        "print(unique_str)"
      ],
      "metadata": {
        "colab": {
          "base_uri": "https://localhost:8080/"
        },
        "id": "CtCjw8ouD8pf",
        "outputId": "16673f1f-cf26-442b-8b6d-6fbbd12260e9"
      },
      "execution_count": 25,
      "outputs": [
        {
          "output_type": "stream",
          "name": "stdout",
          "text": [
            "I am a self-taught programmer looking for job as\n"
          ]
        }
      ]
    },
    {
      "cell_type": "markdown",
      "source": [],
      "metadata": {
        "id": "39xdZuJNFzFn"
      }
    }
  ]
}