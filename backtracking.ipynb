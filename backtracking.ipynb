{
  "nbformat": 4,
  "nbformat_minor": 0,
  "metadata": {
    "colab": {
      "provenance": [],
      "authorship_tag": "ABX9TyNhUdZgs7qEqWdXCflonom+",
      "include_colab_link": true
    },
    "kernelspec": {
      "name": "python3",
      "display_name": "Python 3"
    },
    "language_info": {
      "name": "python"
    }
  },
  "cells": [
    {
      "cell_type": "markdown",
      "metadata": {
        "id": "view-in-github",
        "colab_type": "text"
      },
      "source": [
        "<a href=\"https://colab.research.google.com/github/DaramG-star/TIL/blob/master/backtracking.ipynb\" target=\"_parent\"><img src=\"https://colab.research.google.com/assets/colab-badge.svg\" alt=\"Open In Colab\"/></a>"
      ]
    },
    {
      "cell_type": "markdown",
      "source": [
        "## 백트래킹\n",
        "\n",
        "백트래킹 (Backtracking) 기법은 해를 찾는 도중에 막히면 (즉, 해가 아니면) 되돌아가서 다시 해를 찾아가는 기법이다.\n",
        "\n",
        "백트래킹 기법은 최적화(optimization)문제와 결정 (decision)문제를 해결할 수 있다.\n",
        "\n",
        "결정 문제 : 문제의 조건을 만족하는 해가 존재하는지 여부를 'yes' 또는 'no'가 답하는 문제\n",
        "\n",
        "- 미로찾기\n",
        "\n",
        "- n-Queen 문제\n",
        "\n",
        "- Map coloring\n",
        "\n",
        "- 부분집합의 합(Subset Sum)문제 등"
      ],
      "metadata": {
        "id": "acypdMXTgKUU"
      }
    },
    {
      "cell_type": "markdown",
      "source": [
        "백트래킹과 깊이우선탐색과의 차이\n",
        "\n",
        "어떤 노드에서 출발하는 경로가 해결책으로 이어질 것 같지 않으면 더 이상 그 경로를 따라가지 않음으로써 시도의 횟수를 줄임 (Prunning 가지치기)\n",
        "\n",
        "깊이 우선 탐색이 모든 경로를 추적하는데 비해 백트래킹은 불필요한 경로를 조기에 차단\n",
        "\n",
        "깊이우선탐색을 가하기에는 경우의 수가 너무 많음. 즉 N! 가지의 경우의 수를 가진 문제에 대해 깊이우선탐색을 가하면 당연히 처리 불가능한 문제\n",
        "\n",
        "백트래킹 알고리즘을 적용하면 일반적으로 경우의 수가 줄어들지만 이 역시 최악의 경우에는 여전히 지수함수 시간(Exponential Time)을 요하므로 처리 불가능\n",
        "\n",
        "**모든 후보를 검사?**\n",
        "\n",
        "NO!\n",
        "\n",
        "**백트래킹 기법**\n",
        "\n",
        "어떤 노드의 유망성을 점검한 후에 유망(promising)하지 않다고 결정되면 그 노드의 부모로 되돌아가(backtracking) 다음 자식 노드로 감\n",
        "\n",
        "어떤 노드를 방문하였을 때, 그 노드를 포함한 경로가 해답이 될 수 없으면 그 노드를 유망하지 않다고 하며, 반대로 해답의 가능성이 있으면 유망하다고 한다.\n",
        "\n",
        "가지치기 (pruning) : 유망하지 않은 노드가 포함되는 경로는 더 이상 고려하지 않는다.\n",
        "\n",
        "백트래킹을 이용한 알고리즘은 다음과 같은 절차로 진행된다.\n",
        "\n",
        "1. 상태 공간 트리의 깊이 우선 검색을 실시한다.\n",
        "\n",
        "2. 각 노드가 유망한지를 점검한다.\n",
        "\n",
        "3. 만일 그 노드가 유망하지 않으면, 그 노드의 부모 노드로 돌아가서 검색을 계속한다.\n",
        "\n"
      ],
      "metadata": {
        "id": "KZ4Q7mg1gand"
      }
    },
    {
      "cell_type": "markdown",
      "source": [
        "## 부분집합\n",
        "\n",
        "어떤 집합의 공집합과 자기자신을 포함한 모든 부분집합을 powerset이라고 하며 구하고자 하는 어떤 집합의 원소 개수가 n일 경우 부분집합의 개수는 2^n 개 이다.\n",
        "\n",
        "백트래킹 기법으로 powerset 을 만들어보자\n",
        "\n",
        "앞에서 설명한 일반적인 백트래킹 접근 방법을 이용한다.\n",
        "\n",
        "n개의 원소가 들어있는 집합의 2^n 개의 부분집합을 만들 때는, true 또는 false 값을 가지는 항목들로 구성된 n개의 배열을 만드는 방법을 이용\n",
        "\n",
        "여기서 배열의 i 번째 항목은 i 번째의 원소가 부분집합의 값인지 아닌지를 나타내는 값이다."
      ],
      "metadata": {
        "id": "Vjd-YxMIwzg4"
      }
    },
    {
      "cell_type": "code",
      "execution_count": null,
      "metadata": {
        "colab": {
          "base_uri": "https://localhost:8080/"
        },
        "id": "ohUgaj8ngDAd",
        "outputId": "f4201a2c-29bd-4640-b4a9-7a2454aa1702"
      },
      "outputs": [
        {
          "output_type": "stream",
          "name": "stdout",
          "text": [
            "[0, 0, 0, 0]\n",
            "[0, 0, 0, 1]\n",
            "[0, 0, 1, 0]\n",
            "[0, 0, 1, 1]\n",
            "[0, 1, 0, 0]\n",
            "[0, 1, 0, 1]\n",
            "[0, 1, 1, 0]\n",
            "[0, 1, 1, 1]\n",
            "[1, 0, 0, 0]\n",
            "[1, 0, 0, 1]\n",
            "[1, 0, 1, 0]\n",
            "[1, 0, 1, 1]\n",
            "[1, 1, 0, 0]\n",
            "[1, 1, 0, 1]\n",
            "[1, 1, 1, 0]\n",
            "[1, 1, 1, 1]\n"
          ]
        }
      ],
      "source": [
        "# 각 원소가 부분집합에 포함되었는지를 loop 이용하여 확인하고 부분집합을 생성하는 방법\n",
        "\n",
        "bit = [0, 0, 0, 0]\n",
        "for i in range(2):\n",
        "    bit[0] = i\n",
        "    for j in range(2):\n",
        "        bit[1] = j\n",
        "        for k in range(2):\n",
        "            bit[2] = k\n",
        "            for l in range(2):\n",
        "                bit[3] = l\n",
        "\n",
        "                print(bit)"
      ]
    },
    {
      "cell_type": "code",
      "source": [
        "# powerset을 구하는 백트래킹 알고리즘\n",
        "\n",
        "def process_solution(a, k):\n",
        "    subset = [i for i in range(1, k+1) if a[i]]  # 부분집합을 구성\n",
        "    print(subset)  # 부분집합 출력\n",
        "\n",
        "def construct_candidates(a, k, input, c):\n",
        "    c[0] = True   # 현재 원소를 포함하는 경우\n",
        "    c[1] = False  # 현재 원소를 포함하지 않는 경우\n",
        "    return 2  # 두 가지 선택 가능 (True / False)\n",
        "\n",
        "def backtrack(a, k, input):\n",
        "    global MAXCANDIDATES\n",
        "    c = [0] * MAXCANDIDATES\n",
        "\n",
        "    if k == input:  # 모든 원소를 선택했을 때\n",
        "        process_solution(a, k)  # 현재 부분집합 출력\n",
        "    else:\n",
        "        k += 1  # 다음 원소 처리\n",
        "        ncandidates = construct_candidates(a, k, input, c)  # 선택지 생성\n",
        "        for i in range(ncandidates):\n",
        "            a[k] = c[i]  # 선택한 값 저장\n",
        "            backtrack(a, k, input)  # 다음 단계 진행\n",
        "\n",
        "MAXCANDIDATES = 2\n",
        "NMAX = 4\n",
        "a = [0] * NMAX  # 부분집합을 저장할 배열\n",
        "\n",
        "backtrack(a, 0, 3)  # 부분집합 생성 시작 (3개의 원소)"
      ],
      "metadata": {
        "colab": {
          "base_uri": "https://localhost:8080/"
        },
        "id": "DdcAzF5oxnSi",
        "outputId": "48ce487a-93eb-490b-c523-c4aeeb7f03b3"
      },
      "execution_count": null,
      "outputs": [
        {
          "output_type": "stream",
          "name": "stdout",
          "text": [
            "[1, 2, 3]\n",
            "[1, 2]\n",
            "[1, 3]\n",
            "[1]\n",
            "[2, 3]\n",
            "[2]\n",
            "[3]\n",
            "[]\n"
          ]
        }
      ]
    },
    {
      "cell_type": "code",
      "source": [
        "#부분집합을 포함시켰는지 여부를 확인\n",
        "\n",
        "def f(i, k):\n",
        "    if i == k:      # 모든 원소에 대해 결정하면\n",
        "        ss = 0      # 부분집합 원소의 합\n",
        "        for j in range(k):\n",
        "            if bit[j]:     # A[i]가 포함된 경우\n",
        "                print(A[j], end = ' ')\n",
        "                ss += A[j]\n",
        "        print(ss)\n",
        "    else:\n",
        "        for j in range(1, -1, -1):\n",
        "            bit[i] = j\n",
        "            f(i+1, k)\n",
        "        # bit[i] = 1\n",
        "        # f(i+1, k)\n",
        "        # bit[i] = 0\n",
        "        # f(i+1, k)\n",
        "\n",
        "N = 3\n",
        "\n",
        "A = [1, 2, 3]\n",
        "\n",
        "bit = [0] * N     # bit[i]는 A[i]가 부분집합에 포함되는지 표시\n",
        "\n",
        "f(0, N)"
      ],
      "metadata": {
        "colab": {
          "base_uri": "https://localhost:8080/"
        },
        "id": "UEnLmufQ5V1F",
        "outputId": "8d0fcae2-1707-4ef7-9d8a-1d1fb0bb1927"
      },
      "execution_count": null,
      "outputs": [
        {
          "output_type": "stream",
          "name": "stdout",
          "text": [
            "1 2 3 6\n",
            "1 2 3\n",
            "1 3 4\n",
            "1 1\n",
            "2 3 5\n",
            "2 2\n",
            "3 3\n",
            "0\n"
          ]
        }
      ]
    },
    {
      "cell_type": "code",
      "source": [
        "def f(i, k, t): # k 개의 원소를 가진 배열A, 부분집합의 합이 t인 경우\n",
        "    if i == k:      # 모든 원소에 대해 결정하면\n",
        "        ss = 0      # 부분집합 원소의 합\n",
        "        for j in range(k):\n",
        "            if bit[j]:     # A[i]가 포함된 경우\n",
        "                ss += A[j]  # 부분집합 원소의 합\n",
        "                #print(A[j], end = ' ') 부분집합 출력\n",
        "        if ss == t:\n",
        "            for j in range(k):\n",
        "                if bit[j]:  # A[i]가 포함된 경우\n",
        "                    ss += A[j]\n",
        "                    print(A[j], end = ' ')\n",
        "            print()     # 부분집합 출력\n",
        "    else:\n",
        "        for j in range(1, -1, -1):\n",
        "            bit[i] = j\n",
        "            f(i+1, k, t)\n",
        "        # bit[i] = 1\n",
        "        # f(i+1, k)\n",
        "        # bit[i] = 0\n",
        "        # f(i+1, k)\n",
        "\n",
        "N = 10\n",
        "\n",
        "A = [1, 2, 3, 4, 5, 6, 7, 8, 9, 10]\n",
        "\n",
        "bit = [0] * N     # bit[i]는 A[i]가 부분집합에 포함되는지 표시\n",
        "\n",
        "f(0, N, 10)"
      ],
      "metadata": {
        "colab": {
          "base_uri": "https://localhost:8080/"
        },
        "id": "vjwHEfhz5m76",
        "outputId": "0f9e8519-2f3e-4144-cf0a-9cf1001731ec"
      },
      "execution_count": null,
      "outputs": [
        {
          "output_type": "stream",
          "name": "stdout",
          "text": [
            "1 2 3 4 \n",
            "1 2 7 \n",
            "1 3 6 \n",
            "1 4 5 \n",
            "1 9 \n",
            "2 3 5 \n",
            "2 8 \n",
            "3 7 \n",
            "4 6 \n",
            "10 \n"
          ]
        }
      ]
    },
    {
      "cell_type": "markdown",
      "source": [
        "## 재귀함수"
      ],
      "metadata": {
        "id": "FaQm18Ae6CNv"
      }
    },
    {
      "cell_type": "code",
      "source": [
        "def f(i, k, s, t): # k 개의 원소를 가진 배열A, 부분집합의 합이 t인 경우\n",
        "    global cnt\n",
        "    cnt += 1\n",
        "    if s == t:      # 목표치에 도달하면\n",
        "        for j in range(k):\n",
        "            if bit[j]:  # A[i]가 포함된 경우\n",
        "                s += A[j]\n",
        "                print(A[j], end=' ')\n",
        "        print()\n",
        "\n",
        "    elif i == k: # 모든 원소를 고려했으나 s!=t\n",
        "        return\n",
        "    elif s > t: # 고려한 원소의 합이 t보다 큰 경우\n",
        "        return\n",
        "    else:\n",
        "        # for j in range(1, -1, -1):\n",
        "        #     bit[i] = j\n",
        "        #     f(i+1, k, t)\n",
        "        bit[i] = 1\n",
        "        f(i+1, k, s+A[i], t)\n",
        "        bit[i] = 0\n",
        "        f(i+1, k, s, t)\n",
        "\n",
        "N = 10\n",
        "\n",
        "A = [1, 2, 3, 4, 5, 6, 7, 8, 9, 10]\n",
        "\n",
        "bit = [0] * N     # bit[i]는 A[i]가 부분집합에 포함되는지 표시\n",
        "\n",
        "cnt = 0\n",
        "f(0, N, 0, 10)  #처음, 끝, 합의 초깃값, 문자의 갯수\n",
        "\n",
        "print('cnt : ', cnt)    # 전부 확인하는 경우의 수"
      ],
      "metadata": {
        "colab": {
          "base_uri": "https://localhost:8080/"
        },
        "id": "xaqT17O06EMf",
        "outputId": "e605c574-0cc9-42cb-9f4e-87216b30eda6"
      },
      "execution_count": null,
      "outputs": [
        {
          "output_type": "stream",
          "name": "stdout",
          "text": [
            "1 2 3 4 \n",
            "1 2 7 \n",
            "1 3 6 \n",
            "1 4 5 \n",
            "1 9 \n",
            "2 3 5 \n",
            "2 8 \n",
            "3 7 \n",
            "4 6 \n",
            "10 \n",
            "cnt :  349\n"
          ]
        }
      ]
    },
    {
      "cell_type": "markdown",
      "source": [
        "## 순열"
      ],
      "metadata": {
        "id": "bbarR3p20pcf"
      }
    },
    {
      "cell_type": "code",
      "source": [
        "# 동일한 숫자가 포함되지 않앗을 때, 각 자리 수 별로 loop를 이용하여 구현할 수 있다.\n",
        "for i1 in range(1, 4):\n",
        "    for i2 in range(1, 4):\n",
        "        if i2 != i1:\n",
        "            for i3 in range(1, 4):\n",
        "                if i3 != i1 and i3 != i2:\n",
        "                    print(i1, i2, i3)"
      ],
      "metadata": {
        "colab": {
          "base_uri": "https://localhost:8080/"
        },
        "id": "iO9uqPi20py9",
        "outputId": "e4cfea95-67e1-4f22-c9f5-d39badc64762"
      },
      "execution_count": null,
      "outputs": [
        {
          "output_type": "stream",
          "name": "stdout",
          "text": [
            "1 2 3\n",
            "1 3 2\n",
            "2 1 3\n",
            "2 3 1\n",
            "3 1 2\n",
            "3 2 1\n"
          ]
        }
      ]
    },
    {
      "cell_type": "code",
      "source": [
        "# 백트래킹을 이용하여 순열 구하기\n",
        "\n",
        "def backtrack(a, k, input):\n",
        "    global MAXCANDIDATES\n",
        "    c = [0] * MAXCANDIDATES\n",
        "\n",
        "    if k == input:\n",
        "        for i in range(1, k+1):\n",
        "            print(a[i], end = ' ')\n",
        "        print()\n",
        "    else:\n",
        "        k += 1\n",
        "        ncandidates = construct_candidates(a, k, input, c)\n",
        "        for i in range(ncandidates):\n",
        "            a[k] = c[i]\n",
        "            backtrack(a, k, input)\n",
        "\n",
        "def construct_candidates(a, k, input, c):\n",
        "    in_perm = [False] * NMAX\n",
        "\n",
        "    for i in range(1, k):\n",
        "        in_perm[a[i]] = True\n",
        "\n",
        "    ncandidates = 0\n",
        "    for i in range(1, input+1):\n",
        "        if in_perm[i] == False:\n",
        "            c[ncandidates] = i\n",
        "            ncandidates += 1\n",
        "    return ncandidates"
      ],
      "metadata": {
        "id": "txBK-Qt21KUY"
      },
      "execution_count": null,
      "outputs": []
    },
    {
      "cell_type": "code",
      "source": [
        "#순열\n",
        "\n",
        "def f(i, k):\n",
        "    if i == k:\n",
        "        print(*P)\n",
        "    else:\n",
        "        for j in range(i, k):    # P[i] 자리에 바꿀 원소\n",
        "            P[i], P[j] = P[j], P[i]  # P[i] <-> P[j]\n",
        "            f(i+1, k)   # 순열 자리 결정\n",
        "            P[i], P[j] = P[j], P[i] # 교환전으로 복구 원상복구\n",
        "\n",
        "N = 3\n",
        "P = [1, 2, 3]\n",
        "f(0, N)"
      ],
      "metadata": {
        "id": "8r9w4rAS6MxM"
      },
      "execution_count": null,
      "outputs": []
    },
    {
      "cell_type": "code",
      "source": [
        "def f(i, k, s):     # s는 i-1까지 탐색한 합\n",
        "    global min_v\n",
        "    global cnt\n",
        "    cnt += 2\n",
        "    if i == k:  # 모든 원소를 고려했니?\n",
        "        # print(*P)\n",
        "        if min_v > s:   # 비교하는 순서, 대입하는 순서 맞춰주면 좋음!\n",
        "            min_v = s\n",
        "    elif s >= min_v:    # 모든 원소를 고려하지 않았으면 리턴하렴\n",
        "        return\n",
        "    else:\n",
        "        for j in range(i, k):    # P[i] 자리에 바꿀 원소\n",
        "            P[i], P[j] = P[j], P[i]  # P[i] <-> P[j]\n",
        "            f(i+1, k, s+arr[i][P[i]])   # 순열 자리 결정\n",
        "            P[i], P[j] = P[j], P[i] # 교환전으로 복구 원상복구\n",
        "\n",
        "N = int(input())\n",
        "arr = [list(map(int, input().split())) for _ in range(N)]\n",
        "P = [i for i in range(N)]\n",
        "min_v = 100 # 나와있는 모든 수를 더해도 100이 넘지 않음\n",
        "cnt = 0\n",
        "f(0, N, 0)\n",
        "print(min_v, cnt)"
      ],
      "metadata": {
        "id": "hntt9_BW6M8V"
      },
      "execution_count": null,
      "outputs": []
    },
    {
      "cell_type": "markdown",
      "source": [
        "## 부분집합의 합\n",
        "\n",
        "10개의 정수를 입력 받아 부분집합의 합이 0이 되는 것이 존재하는지를 계산하는 함수를 작성해보자.\n",
        "\n",
        "부분집합의 합이 0인 것이 존재하면 1을 출력하고 그렇지 않으면 0을 출력한다. (단 공집합은 제외)"
      ],
      "metadata": {
        "id": "BlI1o3cA18c-"
      }
    },
    {
      "cell_type": "code",
      "source": [
        "def f(n,k,cursum):\n",
        "    global ans\n",
        "    if n == k:\n",
        "        #공집합은 제외\n",
        "        if sum(bit) == 0: #공집합인 경우\n",
        "            return\n",
        "        if cursum == 0:\n",
        "            ans = 1\n",
        "            return\n",
        "    else:\n",
        "        bit[k] = 1\n",
        "        f(n, k+1, cursum + arr[k])#이전의 합에 새로 생긴 원소 더해서 보내기\n",
        "        bit[k] = 0\n",
        "        f(n, k+1, cursum)#이전의 합 전달하기\n",
        "\n",
        "T =int(input())\n",
        "for tc in range(1, T+1):\n",
        "    N = int(input())\n",
        "    arr = list(map(int, input().split()))\n",
        "    bit = [0] * N\n",
        "    ans = 0\n",
        "    f(N,0,0)\n",
        "\n",
        "    print(f'#{tc} {ans}')"
      ],
      "metadata": {
        "id": "koro3b0_2lTY"
      },
      "execution_count": null,
      "outputs": []
    },
    {
      "cell_type": "markdown",
      "source": [
        "## 배열 최소 합\n",
        "\n",
        "NxN 배열에 숫자가 들어있다. 한 줄에서 하나씩 N개의 숫자를 골라 합이 최소가 되도록 하려고 한다. 단, 세로로 같은 줄에서 두 개 이상의 숫자를 고를 수 없다.\n",
        "\n",
        "조건에 맞게 숫자를 골랐을 때의 최소 합을 출력하는 프로그램을 만드시오.\n",
        "\n",
        "\n",
        "예를 들어 다음과 같이 배열이 주어진다.\n",
        "\n",
        "\n",
        "![image.png](data:image/png;base64,iVBORw0KGgoAAAANSUhEUgAAAFQAAABNCAYAAAA4skOSAAAAAXNSR0IArs4c6QAAAARnQU1BAACxjwv8YQUAAAAJcEhZcwAADsMAAA7DAcdvqGQAAAUSSURBVHhe7ZtPTxtHGMYf9wNUyg3Jh8hIFcGyQy65VKBIVFCjSgE5XCFH0wNtqPkncUbiTyKTcgg+xnvg0lo4FwwILrZy4QKBGlAlrKoayYee8gXoYcFej/Hu2PMsNOr8JB92djXa/Xnfd8bzegJXV1dXMND4Sm4w6GGEkjFCyRihZIxQMoFmo3w4EpWbqJz9cSo3fRE00VXFVWjp9ERuphCORFHanZSbKQSCCc+HbpdAIODZtwl5MkYoGSOUjBFKxggloym0iGQkivDN54UFIV+izWdkJjaRqcjtOghkXjjuOzKDgnxJm2gJFVYOPTsnKJ3an3RoBQPTRfmythHZTYQH32PpUj6jSXENx1O1+96bKyNBehm0hAbHVjEerB33Tc3iUT7H+bYrR5jceID07kvMd8onNeldxZve2mFw7BWGLnLYJxjVEnorXY9Bef6OJ8juxtAnt/tGCCHHy9EuVKGF1Aow0g/Cfd0pwlrDdmyY8uWRhNpJPoF3yI59WToL01EMbA1j77UjB2igL7Q4g3AkZid50k3dCcJCPBJFqieP0u9jtKjSE1qcQXgCSJ+e1CX5/zzCQvz7HEZ2TugRpSW0sJXH0MYqJffcJeIgB8y9rZuhsNAQKlAuA9sTzglyFOHIKDKE6YefXB5f4Hw5Jt13FEnCFNqsh7aAWQ+9B4xQMkYoGdcc6if/uyJdIBDAlUjLzRTue+BoF5W+TciTMULJGKFkjFAyRigZzVH+LyQHP2Db2fTsOUoLD50tDaiO8sIaxcDyxfVRDOlT74UYlZHYXr+NYemmawDomsWexzKeSt96QitHiI9XMNViqUJJaHVp0JYorFF7IZjw0Ha1dg09O7+1tOKk0rd+yHd2cGpIEqJcxqO5V9Uvyi6kfQKvAMqpIcnoC/WJYP8wsLxWraAy6z5+ohfyh3mEF/6sHXf2YW/jiWtIQjXkcbOyvoJzAIi9UyqxqIRlXb8ANT/rCZUoLK4j8be3VBWhDTlTyqnNUHloGXvwC1H6poZ838JzDF1WCHlOYH8LmP/VMQD1riIdy2OLsKouExx7i/muMsqESgNVKI8yjp1TGgdlxlP7iJZQkT2q+9tNYfEDtp91u4aNGr0YiV1gKeV4HYszSOS7MNLvlkwUKVp1dS9h/YwlDOM7QteaOVSa2CtM6qGYQ3H9J4RE/uaoC/MK80aVPNcwsVeY1EOxb02h7aEqtB1UHrpdVPrWCnlDI0YoGSOUjGsONTTSRFcVV6FNTmnje9/3OJiakCdjhJIxQskYoWSMUDIao3wRyciP9QW6a4Y23P8i7t03Gvtv5fe25yj/GZkJ54ayb5BWqIupjPIaQm9BWIj/BKx7PLhK38KawX5/bWNZYdreZeK1aq8k9DCPJGJ489Q+FNlNDOx2UxbGqSFfSK0gNOUuUxVfd+k9rckEgGD8WwxdnmGfsJ+UJ1RYSJVn8Yv7C6QHa5ferTxAqENuax2aUObbeRt+7tIT2Y+khXGWUF/fTn936RUW1+38qbAwrgJFqDjI+fP2+LlLr3KE+OA6Ut0vUfIYjFqBINSuUFJqPU783KVXOUJ8/AwjmUlk41/LZ7XQFyoOsEUqcDnxc5ee+HgGTPyAccIgJKMvtPwJ56EQLWRs/N2ld3n2D8433iM8uF73SR7KV7YOd2KviO99e03s2+TOJ/YGI5SOEUrGNYcaGmmiq0pToYb2MCFPxgglY4SSMULJGKFkjFAy/wJN14ekX/JMrAAAAABJRU5ErkJggg==)\n",
        "\n",
        "\n",
        "이경우 1, 5, 2를 고르면 합이 8로 최소가 된다.\n",
        "\n",
        "\n",
        "\n",
        "[입력]\n",
        "\n",
        "\n",
        "첫 줄에 테스트 케이스 개수 T가 주어진다.  1≤T≤50\n",
        "\n",
        "\n",
        "다음 줄부터 테스트 케이스의 첫 줄에 숫자 N이 주어지고, 이후 N개씩 N줄에 걸쳐 10보다 작은 자연수가 주어진다. 3≤N≤10\n",
        "\n",
        "\n",
        "\n",
        "[출력]\n",
        "\n",
        "\n",
        "각 줄마다 \"#T\" (T는 테스트 케이스 번호)를 출력한 뒤, 합계를 출력한다."
      ],
      "metadata": {
        "id": "tCqd1NtJ4TcR"
      }
    },
    {
      "cell_type": "code",
      "source": [
        "def perm(n, k, cursum):\n",
        "    global ans\n",
        "    if ans < cursum: return  # 가지치기\n",
        "\n",
        "    if k == n:\n",
        "        ans = min(cursum, ans)\n",
        "    else:\n",
        "        for i in range(k, n):\n",
        "            A[k], A[i] = A[i], A[k]\n",
        "            perm(n, k + 1, cursum + arr[k][A[k]])\n",
        "            A[k], A[i] = A[i], A[k]\n",
        "\n",
        "\n",
        "T = int(input())\n",
        "for tc in range(1, T + 1):\n",
        "    N = int(input())\n",
        "    arr = [list(map(int, input().split())) for _ in range(N)]\n",
        "    A = list(range(N))  # 순열이 저장될 리스트\n",
        "    ans = float('inf')\n",
        "    perm(N, 0, 0)\n",
        "    print(f'#{tc} {ans}')"
      ],
      "metadata": {
        "colab": {
          "base_uri": "https://localhost:8080/"
        },
        "id": "87Ba_KJO42ZA",
        "outputId": "c2a25558-e7c5-4c24-9f57-1ce3b2f03de5"
      },
      "execution_count": null,
      "outputs": [
        {
          "output_type": "stream",
          "name": "stdout",
          "text": [
            "1\n",
            "3\n",
            "2 1 2\n",
            "5 8 5\n",
            "7 2 2\n",
            "#1 8\n"
          ]
        }
      ]
    }
  ]
}